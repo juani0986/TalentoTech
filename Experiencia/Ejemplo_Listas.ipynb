{
 "cells": [
  {
   "cell_type": "code",
   "execution_count": null,
   "id": "cdfee5d8",
   "metadata": {},
   "outputs": [
    {
     "name": "stdout",
     "output_type": "stream",
     "text": [
      "['Manzana', 'mango', 'naranja', 'sandia', 'pera']\n",
      "naranja\n",
      "pera\n",
      "pera\n",
      "sandia\n",
      "['Manzana', 'mango', 'naranja', 'sandia', 'pera', 'uva']\n",
      "['Manzana', 'mango', 'Melon', 'naranja', 'sandia', 'pera', 'uva']\n",
      "['Manzana', 'mango', 'Melon', 'naranja', 'pera', 'uva']\n",
      "mango\n",
      "['Manzana', 'Melon', 'naranja', 'pera', 'uva']\n",
      "5\n"
     ]
    }
   ],
   "source": [
    "Listas_frutas=[\"Manzana\",\"mango\",\"naranja\",\"sandia\",\"pera\"]\n",
    "print(Listas_frutas)\n",
    "print(Listas_frutas[2])\n",
    "print(Listas_frutas[4])\n",
    "print(Listas_frutas[-1])\n",
    "print(Listas_frutas[-2])\n",
    "Listas_frutas.append(\"uva\")\n",
    "print(Listas_frutas)\n",
    "Listas_frutas.insert(2,\"Melon\")\n",
    "print(Listas_frutas)\n",
    "Listas_frutas.remove(\"sandia\")\n",
    "print(Listas_frutas)\n",
    "'''fruta=Listas_frutas[1]\n",
    "print(fruta)\n",
    "Listas_frutas.remove(\"mango\")\n",
    "print(Listas_frutas)'''\n",
    "#frutas2=Listas_frutas.pop()   Elimina el ultimo valor de la lista \n",
    "frutas2=Listas_frutas.pop(1)\n",
    "print(frutas2)\n",
    "print(Listas_frutas)\n",
    "print(len(Listas_frutas))\n"
   ]
  },
  {
   "cell_type": "code",
   "execution_count": null,
   "id": "df445a27",
   "metadata": {},
   "outputs": [
    {
     "name": "stdout",
     "output_type": "stream",
     "text": [
      "['Chile', 'peru', 'Brasil', 'Bolivia', 'Ecuador']\n",
      "['Chile', 'Perú', 'Brasil', 'Bolivia', 'Ecuador']\n",
      "['Chile', 'Perú', 'Brasil', 'Bolivia', 'Ecuador', 'Argentina']\n",
      "['Chile', 'Perú', 'Brasil', 'Uruguay', 'Bolivia', 'Ecuador', 'Argentina']\n",
      "['Chile', 'Perú', 'Uruguay', 'Bolivia', 'Ecuador', 'Argentina']\n",
      "['Chile', 'Perú', 'Uruguay', 'Bolivia', 'Argentina']\n"
     ]
    }
   ],
   "source": [
    "'''\n",
    "Creen una lista con al menos cinco elementos.\n",
    "Modifiquen un elemento. []\n",
    "Agreguen dos nuevos elementos. (.append)\n",
    "Eliminen un elemento. (.remove)\n",
    "Capture un elemento con (.pop)\n",
    "'''\n",
    "\n",
    "Listas_Paises=[\"Chile\",\"peru\",\"Brasil\",\"Bolivia\",\"Ecuador\"]  #Crear lista\n",
    "print(Listas_Paises)\n",
    "Listas_Paises[1]=(\"Perú\") #Modifica el elemento en ese indice\n",
    "print(Listas_Paises)\n",
    "Listas_Paises.append(\"Argentina\")  #Adiciona un nuevo pais\n",
    "print(Listas_Paises)\n",
    "Listas_Paises.insert(3,\"Uruguay\")  #Inserta un nuevo elemento en la posicion 3\n",
    "print(Listas_Paises)\n",
    "Listas_Paises.remove(\"Brasil\")  #Elimina ese pais\n",
    "print(Listas_Paises)\n",
    "Listas_Paises.pop(4)  #Elimina el pais de la posición 4\n",
    "print(Listas_Paises)\n",
    "\n",
    "\n"
   ]
  },
  {
   "cell_type": "markdown",
   "id": "9c9fb9c4",
   "metadata": {},
   "source": [
    "CICLO WHILE \n",
    "Repite un bloque de codigo mientras una condicion se mantenfa verdadera"
   ]
  },
  {
   "cell_type": "code",
   "execution_count": null,
   "id": "9dfc1840",
   "metadata": {},
   "outputs": [],
   "source": [
    "respuesta=0\n",
    "while respuesta != \"si\":\n",
    "  respuesta= input(\"¿Desea continuar? (sí/no)?\").lower()\n",
    "print(\"Gracias por confirmar\")  "
   ]
  },
  {
   "cell_type": "code",
   "execution_count": null,
   "id": "048fe3ec",
   "metadata": {},
   "outputs": [
    {
     "name": "stdout",
     "output_type": "stream",
     "text": [
      "Respuesta no válida. Por favor escriba 'sí' o 'no' \n",
      "Operacion cancelada por el usuario\n"
     ]
    }
   ],
   "source": [
    "while True:\n",
    "    respuesta= input(\"¿Desea continuar? (sí/no): \").strip().lower()\n",
    "    if respuesta == \"sí\":\n",
    "        print(\"Gracias por confirmar\")\n",
    "        break\n",
    "    elif respuesta == \"no\":\n",
    "        print(\"Operacion cancelada por el usuario\")\n",
    "        break\n",
    "    else:\n",
    "        print(\"Respuesta no válida. Por favor escriba 'sí' o 'no' \")\n",
    "        "
   ]
  }
 ],
 "metadata": {
  "kernelspec": {
   "display_name": "Python 3",
   "language": "python",
   "name": "python3"
  },
  "language_info": {
   "codemirror_mode": {
    "name": "ipython",
    "version": 3
   },
   "file_extension": ".py",
   "mimetype": "text/x-python",
   "name": "python",
   "nbconvert_exporter": "python",
   "pygments_lexer": "ipython3",
   "version": "3.13.4"
  }
 },
 "nbformat": 4,
 "nbformat_minor": 5
}
