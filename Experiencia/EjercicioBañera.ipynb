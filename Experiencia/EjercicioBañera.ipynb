{
 "cells": [
  {
   "cell_type": "code",
   "execution_count": null,
   "id": "7472ee7e",
   "metadata": {},
   "outputs": [],
   "source": []
  },
  {
   "cell_type": "code",
   "execution_count": null,
   "id": "8dc1175a",
   "metadata": {},
   "outputs": [
    {
     "data": {
      "text/plain": [
       "True"
      ]
     },
     "execution_count": 1,
     "metadata": {},
     "output_type": "execute_result"
    }
   ],
   "source": [
    "1==1\n",
    "\n",
    "loc=3\n",
    "loc==3"
   ]
  },
  {
   "cell_type": "code",
   "execution_count": 3,
   "id": "8c0bd52e",
   "metadata": {},
   "outputs": [
    {
     "data": {
      "text/plain": [
       "True"
      ]
     },
     "execution_count": 3,
     "metadata": {},
     "output_type": "execute_result"
    }
   ],
   "source": [
    "1>2\n",
    "2>1\n",
    "2>2\n",
    "\"hola\" > \"Hola\""
   ]
  },
  {
   "cell_type": "code",
   "execution_count": 6,
   "id": "8e175360",
   "metadata": {},
   "outputs": [
    {
     "name": "stdout",
     "output_type": "stream",
     "text": [
      "12\n",
      "No cumple con la cantidad de cuiadores segun el numero de leones\n",
      "False\n"
     ]
    }
   ],
   "source": [
    "#Cuidadores Zoologico\n",
    "import math\n",
    "\n",
    "leones_zoo = 23\n",
    "cuidadores_leones = 10\n",
    "\n",
    "cuidadores_requeridos = math.ceil(leones_zoo/2)\n",
    "print(cuidadores_requeridos)\n",
    "\n",
    "cumple_norma = cuidadores_leones >= cuidadores_requeridos\n",
    "\n",
    "if cumple_norma:\n",
    "    print(\"Cumple con la cantidad de cuiadores segun el numero de leones\")\n",
    "else:\n",
    "   print(\"No cumple con la cantidad de cuiadores segun el numero de leones\")     \n",
    "print(cumple_norma)"
   ]
  },
  {
   "cell_type": "markdown",
   "id": "bfd2e121",
   "metadata": {},
   "source": [
    "Ejecicio"
   ]
  },
  {
   "cell_type": "code",
   "execution_count": null,
   "id": "55e85c42",
   "metadata": {},
   "outputs": [
    {
     "name": "stdout",
     "output_type": "stream",
     "text": [
      "No se ha rebosado\n"
     ]
    }
   ],
   "source": [
    "#Declarar variables\n",
    "capacidad_maxima=500\n",
    "llenado_hora=200\n",
    "volumen_persona=120\n",
    "horas_llenado=1\n",
    "\n",
    "if (llenado_hora * horas_llenado) > capacidad_maxima:\n",
    "    print(\"La bañera se reboso con el tiempo de llenado\")\n",
    "elif ((llenado_hora * horas_llenado) + volumen_persona) < capacidad_maxima:\n",
    "    print(\"No se ha rebosado la bañera con el tiempo de llenado y el ingreso de la persona\")    \n",
    "elif ((llenado_hora * horas_llenado) + volumen_persona) > capacidad_maxima:\n",
    "    print(\"La baseña se reboso con el tiempo de llenado y el ingreso de la persona\")   \n",
    "elif ((llenado_hora*horas_llenado)+volumen_persona) == capacidad_maxima:\n",
    "    print(\"La bañera esta en su capacidad maxima\")\n",
    "else:\n",
    "    print(\"La bañera no se ha rebosado, puede ingresar\")\n"
   ]
  }
 ],
 "metadata": {
  "kernelspec": {
   "display_name": "Python 3",
   "language": "python",
   "name": "python3"
  },
  "language_info": {
   "codemirror_mode": {
    "name": "ipython",
    "version": 3
   },
   "file_extension": ".py",
   "mimetype": "text/x-python",
   "name": "python",
   "nbconvert_exporter": "python",
   "pygments_lexer": "ipython3",
   "version": "3.13.4"
  }
 },
 "nbformat": 4,
 "nbformat_minor": 5
}
