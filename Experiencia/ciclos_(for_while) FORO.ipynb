{
 "cells": [
  {
   "cell_type": "markdown",
   "id": "9bc07f9c",
   "metadata": {},
   "source": [
    "Calcula la suma de todos los números múltiplos de 3 entre 1 y 100 (inclusive) usando un ciclo for."
   ]
  },
  {
   "cell_type": "code",
   "execution_count": null,
   "id": "ef1ed490",
   "metadata": {},
   "outputs": [],
   "source": [
    "#validando que sean numeros con el metodo isdigit() PRIMERA FORMA - FORO\n",
    "#1. En la primera forma modificar el codigo de tal manera que el calculo de la suma acumulada de los multiplos de 3, no este por fuera del ciclo infinito\n",
    "\n",
    "suma = 0\n",
    "while True:  #Ciclo ifinito que solicitara los rangos hasta que se cumplan las condiciones y llegue hasta el break  \n",
    "    rango_inicial = input(\"Digite el rango inicial para el ciclo for: \")\n",
    "    rango_final = input(\"Digite el rango final para el ciclo for: \")\n",
    "\n",
    "    if rango_inicial.isdigit():\n",
    "        if rango_final.isdigit():\n",
    "            rango_inicial = int(rango_inicial)\n",
    "            rango_final = int(rango_final)\n",
    "            if rango_final > rango_inicial:\n",
    "                for i in range(rango_inicial, rango_final + 1):\n",
    "                    if i % 3 == 0:\n",
    "                        suma += i #suma = suma + i       \n",
    "\n",
    "                print(f\"La suma de los multiplos de 3 entre {rango_inicial} y {rango_final} es igual a {suma}\")   \n",
    "                break\n",
    "            else:\n",
    "                print(\"El rango final debe ser mayor que el rango inicial\")\n",
    "        else:\n",
    "            print(\"su rango final no es un número: INTENTELO DE NUEVO\")\n",
    "    else:\n",
    "            print(\"su rango inicial no es un número: INTENTELO DE NUEVO\")        \n",
    "\n"
   ]
  },
  {
   "cell_type": "code",
   "execution_count": null,
   "id": "fe21a34d",
   "metadata": {},
   "outputs": [
    {
     "name": "stdout",
     "output_type": "stream",
     "text": [
      "Error: invalid literal for int() with base 10: 'q'\n",
      "Error: invalid literal for int() with base 10: 'w'\n",
      "La suma de los múltiplos de 3 entre 1 y 101 es igual a 1683\n"
     ]
    }
   ],
   "source": [
    "# Validando que sean enteros y que el rango_final sea mayor al inicial\n",
    "# 2. En la segunda forma modificar el codigo de tal manera que si el rango_final no es un número, que el programa no vuelva a solicitar el rango_inicial unicamente el rango_final\n",
    "suma = 0\n",
    "\n",
    "# Pedir rango_inicial una vez\n",
    "while True:\n",
    "    try:\n",
    "        rango_inicial = int(input(\"Digite el rango inicial para el ciclo for: \"))\n",
    "        break\n",
    "    except Exception as e:\n",
    "        print(f\"Error: {e}\")\n",
    "\n",
    "# Pedir rango_final hasta que sea válido y mayor al inicial\n",
    "while True:\n",
    "    try:\n",
    "        rango_final = int(input(\"Digite el rango final para el ciclo for: \"))\n",
    "    except Exception as e:\n",
    "        print(f\"Error: {e}\")\n",
    "        continue\n",
    "\n",
    "    if rango_final > rango_inicial:\n",
    "        for i in range(rango_inicial, rango_final + 1):\n",
    "            if i % 3 == 0:\n",
    "                suma += i\n",
    "        print(f\"La suma de los múltiplos de 3 entre {rango_inicial} y {rango_final} es igual a {suma}\")\n",
    "        break\n",
    "    else:\n",
    "        print(\"El rango final debe ser mayor que el rango inicial\")"
   ]
  },
  {
   "cell_type": "markdown",
   "id": "7b1d43da",
   "metadata": {},
   "source": [
    "Pide un número entero positivo al usuario y cuenta cuántos dígitos tiene usando un ciclo while."
   ]
  },
  {
   "cell_type": "code",
   "execution_count": null,
   "id": "d2d6e91a",
   "metadata": {},
   "outputs": [],
   "source": [
    "#Por medio del bloque try...except...else controlar que el usuario ingrese un número, de lo contrario enviarle el mensaje y mantenerlo en un ciclo infinito hasta que en el bloque try no exista ninguna excepción.\n",
    "#la excepción debera ser controlada especificamente VALUEERROR\n",
    "\n",
    "contador = 0\n",
    "\n",
    "while True:\n",
    "    try:\n",
    "        numero= int(input(\"Digite un número positivo\"))\n",
    "    except ValueError :\n",
    "        print(f\"¡Error! El valor {numero} ingresado no es un número: VUELVA A INTENTARLO\")    \n",
    "    else:\n",
    "        n = numero\n",
    "        while n > 0:\n",
    "            n = n//10\n",
    "            contador += 1\n",
    "        print(f\"El número {numero} tiene {contador} digitos\")\n",
    "        break"
   ]
  }
 ],
 "metadata": {
  "kernelspec": {
   "display_name": "Python 3",
   "language": "python",
   "name": "python3"
  },
  "language_info": {
   "codemirror_mode": {
    "name": "ipython",
    "version": 3
   },
   "file_extension": ".py",
   "mimetype": "text/x-python",
   "name": "python",
   "nbconvert_exporter": "python",
   "pygments_lexer": "ipython3",
   "version": "3.13.5"
  }
 },
 "nbformat": 4,
 "nbformat_minor": 5
}
