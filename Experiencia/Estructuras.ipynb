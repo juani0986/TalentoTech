{
 "cells": [
  {
   "cell_type": "code",
   "execution_count": 3,
   "id": "5ab8760b",
   "metadata": {},
   "outputs": [
    {
     "name": "stdout",
     "output_type": "stream",
     "text": [
      "LISTA\n",
      "Perro\n",
      "Gato\n",
      "Pajaro\n",
      "Gallina\n",
      "Pato\n",
      "Cerdo\n"
     ]
    }
   ],
   "source": [
    "# 1) (*clase*) Inventarse su propio ejemplo en Python (Google Colab) de:\n",
    "#   - Lista, tupla, conjunto, diccionario\n",
    "#   -(clase/casa) Recorrer cada estructura con un cliclo for\n",
    "\n",
    "\n",
    "print(\"LISTA\")\n",
    "lista_animales=[\"Perro\",\"Gato\",\"Pajaro\",\"Gallina\",\"Pato\",\"Cerdo\"]\n",
    "for x in lista_animales:\n",
    "  print(x)"
   ]
  },
  {
   "cell_type": "code",
   "execution_count": 2,
   "id": "38e49ac7",
   "metadata": {},
   "outputs": [
    {
     "name": "stdout",
     "output_type": "stream",
     "text": [
      "TUPLA\n",
      "Ecuador\n",
      "Brasil\n",
      "Mexico\n",
      "Francia\n",
      "España\n"
     ]
    }
   ],
   "source": [
    "print(\"TUPLA\")\n",
    "tupla_paises=(\"Ecuador\",\"Brasil\",\"Mexico\",\"Francia\",\"España\")  \n",
    "for y in tupla_paises:\n",
    "  print(y)"
   ]
  },
  {
   "cell_type": "code",
   "execution_count": 1,
   "id": "d7081022",
   "metadata": {},
   "outputs": [
    {
     "name": "stdout",
     "output_type": "stream",
     "text": [
      "CONJUNTO\n",
      "Piña\n",
      "Mango\n",
      "Melocotón\n",
      "Fresa\n",
      "Pera\n",
      "Manzana\n"
     ]
    }
   ],
   "source": [
    "print(\"CONJUNTO\")\n",
    "conjunto_frutas={\"Pera\",\"Piña\",\"Manzana\",\"Melocotón\",\"Mango\",\"Fresa\"}\n",
    "for z in conjunto_frutas:\n",
    "  print(z)\n"
   ]
  },
  {
   "cell_type": "code",
   "execution_count": null,
   "id": "7f79d329",
   "metadata": {},
   "outputs": [
    {
     "name": "stdout",
     "output_type": "stream",
     "text": [
      "Unión: {1, 2, 3, 4, 5, 6, 7, 8}\n",
      "Intersección: {4, 5}\n",
      "Diferencia (A - B): {1, 2, 3}\n",
      "Diferencia simétrica: {1, 2, 3, 6, 7, 8}\n",
      "¿{1, 2} es subconjunto de A? True\n"
     ]
    }
   ],
   "source": [
    "A = {1, 2, 3, 4, 5}\n",
    "B = {4, 5, 6, 7, 8}\n",
    "\n",
    "A | B           # {1, 2, 3, 4, 5, 6, 7, 8}\n",
    "A.union(B)      # Alternativa con método\n",
    "\n",
    "A & B                   # {4, 5}\n",
    "A.intersection(B)       # Alternativa con método\n",
    "\n",
    "A - B                   # {1, 2, 3}\n",
    "A.difference(B)         # Alternativa con método\n",
    "\n",
    "A ^ B                           # {1, 2, 3, 6, 7, 8}\n",
    "A.symmetric_difference(B)       # Alternativa con método\n",
    "\n",
    "C = {1, 2}\n",
    "C <= A         # True (C es subconjunto de A)\n",
    "C.issubset(A)  # Alternativa con método\n",
    "\n",
    "A >= C         # True (A es superconjunto de C)\n",
    "A.issuperset(C)  # Alternativa con método \n",
    "\n",
    "\n",
    "A = {1, 2, 3, 4, 5}\n",
    "B = {4, 5, 6, 7, 8}\n",
    "\n",
    "print(\"Unión:\", A | B)\n",
    "print(\"Intersección:\", A & B)\n",
    "print(\"Diferencia (A - B):\", A - B)\n",
    "print(\"Diferencia simétrica:\", A ^ B)\n",
    "print(\"¿{1, 2} es subconjunto de A?\", {1, 2} <= A) "
   ]
  },
  {
   "cell_type": "code",
   "execution_count": 11,
   "id": "5c1623ec",
   "metadata": {},
   "outputs": [
    {
     "name": "stdout",
     "output_type": "stream",
     "text": [
      "DICCIONARIO\n",
      "Nombre: Ana\n",
      "Cedula: 123456\n",
      "Edad: 25\n",
      "Sexo: Femenino\n",
      "Fecha_Nacimiento: 09/04/2000\n"
     ]
    }
   ],
   "source": [
    "print(\"DICCIONARIO\")\n",
    "diccionario_datos={\"Nombre\":\"Ana\",\"Cedula\":\"123456\",\"Edad\":\"25\",\"Sexo\":\"Femenino\",\"Fecha_Nacimiento\":\"09/04/2000\"}\n",
    "for clave, valor in diccionario_datos.items():\n",
    "    print(f\"{clave}: {valor}\")\n",
    "\n",
    "#print(diccionario_datos)"
   ]
  }
 ],
 "metadata": {
  "kernelspec": {
   "display_name": "Python 3",
   "language": "python",
   "name": "python3"
  },
  "language_info": {
   "codemirror_mode": {
    "name": "ipython",
    "version": 3
   },
   "file_extension": ".py",
   "mimetype": "text/x-python",
   "name": "python",
   "nbconvert_exporter": "python",
   "pygments_lexer": "ipython3",
   "version": "3.13.4"
  }
 },
 "nbformat": 4,
 "nbformat_minor": 5
}
