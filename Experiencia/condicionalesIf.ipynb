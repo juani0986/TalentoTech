{
 "cells": [
  {
   "cell_type": "code",
   "execution_count": null,
   "id": "55696d06",
   "metadata": {},
   "outputs": [],
   "source": [
    "numero=int(input(\"Digite por favor un número\"))\n",
    "if numero > 0:\n",
    "    print(\"El número\",numero,\" es mayor\")\n",
    "else:\n",
    "    print(f\"el numero {numero} es menor\")   \n",
    "    #print(\"El numero {} es menor\".format(numero)) \n",
    "    #print(\"El numero {a} es menor {b}\".format(a=numero,b=numero)) "
   ]
  },
  {
   "cell_type": "markdown",
   "id": "ce40e0d0",
   "metadata": {},
   "source": [
    "2. Dado un numero imprime si es par o impar"
   ]
  },
  {
   "cell_type": "code",
   "execution_count": null,
   "id": "2ac335a1",
   "metadata": {},
   "outputs": [],
   "source": [
    "n = int(input(\"Digite un número para comparar si es par: \"))\n",
    "\n",
    "if n%2==0:\n",
    "    print(f\"El numero {n} es Par\")\n",
    "else:\n",
    "    print(f\"El numero {n} es Impar\")"
   ]
  },
  {
   "cell_type": "markdown",
   "id": "e9c8871a",
   "metadata": {},
   "source": [
    "3. Dado el sueldo de un empleado determinar si esta entre los siguientes rangos:"
   ]
  },
  {
   "cell_type": "code",
   "execution_count": null,
   "id": "146189b5",
   "metadata": {},
   "outputs": [
    {
     "name": "stdout",
     "output_type": "stream",
     "text": [
      "Su sueldo es mayor a los 3.000.000 y menor o igual a los 4.000.000\n"
     ]
    }
   ],
   "source": [
    "sueldo=4_000_000\n",
    "if sueldo <1000000:\n",
    "    print(\"Su salario es inferior a 1.000.000\")\n",
    "elif sueldo >= 1000000 and sueldo <= 2000000:\n",
    "    print(\"su sueldo es mayor igual a 1.000.000 y menor o igual a los 2.000.000\")\n",
    "elif sueldo > 2000000 and sueldo <= 3000000:\n",
    "    print(\"Su sueldo es mayor a los 2.000.000 y menor o igual a los 3.000.000\")   \n",
    "elif sueldo > 3000000 and sueldo <= 4000000: \n",
    "    print(\"Su sueldo es mayor a los 3.000.000 y menor o igual a los 4.000.000\")    \n",
    "else:\n",
    "    print(\"Su sueldo es mayor a los 4.000.000\")    \n",
    "        \n"
   ]
  },
  {
   "cell_type": "code",
   "execution_count": null,
   "id": "cb0393c1",
   "metadata": {},
   "outputs": [],
   "source": [
    "tiene_invitacion = True\n",
    "edad=18\n",
    "acompanado_por_adulto = True\n",
    "\n",
    "#if tiene_invitacion:\n",
    "#    if edad >= 18:\n",
    "#        if edad < 21:\n",
    "#            if acompanado_por_adulto:\n",
    "#                print(\"Puede ingresar al evento, esta acompañado de adulto\")\n",
    "#            else:\n",
    "#                 print(\"No puede ingresar al envento, No esta acompañado de adulto\")\n",
    "#        else:\n",
    "#            print(\"Puede ingresar al envento\")      \n",
    "#    else:\n",
    "#        print(\"Usted es mejor de edad, no puedo ingresar al evento\")\n",
    "#else:\n",
    "#    print(\"Debe tener una invitacion, No puede ingresar al evento\")   \n",
    "\n",
    "\n",
    "if tiene_invitacion:\n",
    "    if edad >= 18 and edad < 21:\n",
    "            if acompanado_por_adulto:\n",
    "                print(\"Puede ingresar al evento, esta acompañado de adulto\")\n",
    "            else:\n",
    "                 print(\"No puede ingresar al envento, No esta acompañado de adulto\")    \n",
    "    else:\n",
    "        print(\"Usted es mejor de edad, no puedo ingresar al evento\")\n",
    "else:\n",
    "    print(\"Debe tener una invitacion, No puede ingresar al evento\")  \n",
    "\n"
   ]
  },
  {
   "cell_type": "code",
   "execution_count": null,
   "id": "c83121c2",
   "metadata": {},
   "outputs": [],
   "source": [
    "promedio=85\n",
    "examen_ingles = True\n",
    "edad = 21\n",
    "tiene_carta = True\n",
    "\n",
    "if promedio >= 85:\n",
    "    if examen_ingles:\n",
    "        if edad<21:\n",
    "            if tiene_carta:\n",
    "                print(\"Puede aspirar a la beca\")\n",
    "            else:\n",
    "                print(\"Para aspirar a la beca debe tener una carta ya que es menor de 21 años\")\n",
    "        else:\n",
    "            print(\"Usted cumple con los requisitos, puede aspirar a la beca\") \n",
    "    else:\n",
    "        print(\"no aprovo el examen de ingles - No puede aspirar a la beca\")\n",
    "else:\n",
    "    print(\"no tiene el promedio requerido - No puede aspirar a la beca\")\n",
    "                           "
   ]
  },
  {
   "cell_type": "code",
   "execution_count": 1,
   "id": "e4b30f27",
   "metadata": {},
   "outputs": [
    {
     "name": "stdout",
     "output_type": "stream",
     "text": [
      "Puedes ingresar a la zona VIP del concierto\n"
     ]
    }
   ],
   "source": [
    "tiene_pulsera=True\n",
    "edad=16\n",
    "autorizacion_padres=True\n",
    "\n",
    "if tiene_pulsera:\n",
    "    if edad >= 16:\n",
    "        if edad<18:\n",
    "            if autorizacion_padres:\n",
    "                print(\"Puedes ingresar a la zona VIP del concierto\")\n",
    "            else:\n",
    "                print(\"No puedes ingresar a la zona VIP del concierto\")    \n",
    "        else:\n",
    "            print(\"Puedes ingresar a la zona VIP \")        \n",
    "    else:\n",
    "        print(\"No puedes ingresar a la zona VIP, debe tener al menos 16 años para ingresar\")\n",
    "else:\n",
    "    print(\"No tiene pulsera VIP\")                "
   ]
  },
  {
   "cell_type": "code",
   "execution_count": null,
   "id": "510e4d53",
   "metadata": {},
   "outputs": [],
   "source": [
    "es_estudiante = True\n",
    "credencial_vigente = True\n",
    "edad = 17\n",
    "acompanado_por_profesor = True\n",
    "\n",
    "if es_estudiante:\n",
    "    if credencial_vigente:\n",
    "        if edad < 20:\n",
    "            if acompanado_por_profesor:\n",
    "                print(\"puede ingresar fuera del horario\")\n",
    "            else:\n",
    "                print(\"No puede ingresar fuera del horario\")     \n",
    "        else:\n",
    "            print(\"No puede ingresar fuera del horario\")   \n",
    "    else:\n",
    "        print(\"No puede ingresar: No tiene credencial vigente\")  \n",
    "else:\n",
    "    print(\"Ingresan solo estudiantes\")                      "
   ]
  },
  {
   "cell_type": "code",
   "execution_count": 2,
   "id": "df2083a9",
   "metadata": {},
   "outputs": [
    {
     "ename": "KeyboardInterrupt",
     "evalue": "Interrupted by user",
     "output_type": "error",
     "traceback": [
      "\u001b[31m---------------------------------------------------------------------------\u001b[39m",
      "\u001b[31mKeyboardInterrupt\u001b[39m                         Traceback (most recent call last)",
      "\u001b[36mCell\u001b[39m\u001b[36m \u001b[39m\u001b[32mIn[2]\u001b[39m\u001b[32m, line 1\u001b[39m\n\u001b[32m----> \u001b[39m\u001b[32m1\u001b[39m a=\u001b[38;5;28mfloat\u001b[39m(\u001b[38;5;28;43minput\u001b[39;49m\u001b[43m(\u001b[49m\u001b[33;43m\"\u001b[39;49m\u001b[33;43mDigite el primer numero: \u001b[39;49m\u001b[33;43m\"\u001b[39;49m\u001b[43m)\u001b[49m)\n\u001b[32m      2\u001b[39m b=\u001b[38;5;28mfloat\u001b[39m(\u001b[38;5;28minput\u001b[39m(\u001b[33m\"\u001b[39m\u001b[33mDigite el primer numero: \u001b[39m\u001b[33m\"\u001b[39m))\n\u001b[32m      3\u001b[39m c=\u001b[38;5;28mfloat\u001b[39m(\u001b[38;5;28minput\u001b[39m(\u001b[33m\"\u001b[39m\u001b[33mDigite el primer numero: \u001b[39m\u001b[33m\"\u001b[39m))\n",
      "\u001b[36mFile \u001b[39m\u001b[32m~\\AppData\\Roaming\\Python\\Python313\\site-packages\\ipykernel\\kernelbase.py:1282\u001b[39m, in \u001b[36mKernel.raw_input\u001b[39m\u001b[34m(self, prompt)\u001b[39m\n\u001b[32m   1280\u001b[39m     msg = \u001b[33m\"\u001b[39m\u001b[33mraw_input was called, but this frontend does not support input requests.\u001b[39m\u001b[33m\"\u001b[39m\n\u001b[32m   1281\u001b[39m     \u001b[38;5;28;01mraise\u001b[39;00m StdinNotImplementedError(msg)\n\u001b[32m-> \u001b[39m\u001b[32m1282\u001b[39m \u001b[38;5;28;01mreturn\u001b[39;00m \u001b[38;5;28;43mself\u001b[39;49m\u001b[43m.\u001b[49m\u001b[43m_input_request\u001b[49m\u001b[43m(\u001b[49m\n\u001b[32m   1283\u001b[39m \u001b[43m    \u001b[49m\u001b[38;5;28;43mstr\u001b[39;49m\u001b[43m(\u001b[49m\u001b[43mprompt\u001b[49m\u001b[43m)\u001b[49m\u001b[43m,\u001b[49m\n\u001b[32m   1284\u001b[39m \u001b[43m    \u001b[49m\u001b[38;5;28;43mself\u001b[39;49m\u001b[43m.\u001b[49m\u001b[43m_parent_ident\u001b[49m\u001b[43m[\u001b[49m\u001b[33;43m\"\u001b[39;49m\u001b[33;43mshell\u001b[39;49m\u001b[33;43m\"\u001b[39;49m\u001b[43m]\u001b[49m\u001b[43m,\u001b[49m\n\u001b[32m   1285\u001b[39m \u001b[43m    \u001b[49m\u001b[38;5;28;43mself\u001b[39;49m\u001b[43m.\u001b[49m\u001b[43mget_parent\u001b[49m\u001b[43m(\u001b[49m\u001b[33;43m\"\u001b[39;49m\u001b[33;43mshell\u001b[39;49m\u001b[33;43m\"\u001b[39;49m\u001b[43m)\u001b[49m\u001b[43m,\u001b[49m\n\u001b[32m   1286\u001b[39m \u001b[43m    \u001b[49m\u001b[43mpassword\u001b[49m\u001b[43m=\u001b[49m\u001b[38;5;28;43;01mFalse\u001b[39;49;00m\u001b[43m,\u001b[49m\n\u001b[32m   1287\u001b[39m \u001b[43m\u001b[49m\u001b[43m)\u001b[49m\n",
      "\u001b[36mFile \u001b[39m\u001b[32m~\\AppData\\Roaming\\Python\\Python313\\site-packages\\ipykernel\\kernelbase.py:1325\u001b[39m, in \u001b[36mKernel._input_request\u001b[39m\u001b[34m(self, prompt, ident, parent, password)\u001b[39m\n\u001b[32m   1322\u001b[39m \u001b[38;5;28;01mexcept\u001b[39;00m \u001b[38;5;167;01mKeyboardInterrupt\u001b[39;00m:\n\u001b[32m   1323\u001b[39m     \u001b[38;5;66;03m# re-raise KeyboardInterrupt, to truncate traceback\u001b[39;00m\n\u001b[32m   1324\u001b[39m     msg = \u001b[33m\"\u001b[39m\u001b[33mInterrupted by user\u001b[39m\u001b[33m\"\u001b[39m\n\u001b[32m-> \u001b[39m\u001b[32m1325\u001b[39m     \u001b[38;5;28;01mraise\u001b[39;00m \u001b[38;5;167;01mKeyboardInterrupt\u001b[39;00m(msg) \u001b[38;5;28;01mfrom\u001b[39;00m\u001b[38;5;250m \u001b[39m\u001b[38;5;28;01mNone\u001b[39;00m\n\u001b[32m   1326\u001b[39m \u001b[38;5;28;01mexcept\u001b[39;00m \u001b[38;5;167;01mException\u001b[39;00m:\n\u001b[32m   1327\u001b[39m     \u001b[38;5;28mself\u001b[39m.log.warning(\u001b[33m\"\u001b[39m\u001b[33mInvalid Message:\u001b[39m\u001b[33m\"\u001b[39m, exc_info=\u001b[38;5;28;01mTrue\u001b[39;00m)\n",
      "\u001b[31mKeyboardInterrupt\u001b[39m: Interrupted by user"
     ]
    }
   ],
   "source": [
    "a=float(input(\"Digite el primer numero: \"))\n",
    "b=float(input(\"Digite el primer numero: \"))\n",
    "c=float(input(\"Digite el primer numero: \"))\n",
    "\n",
    "#comparación todos iguales\n",
    "if a==b==c:\n",
    "    print(\"Los tres numeros son iguales\")\n",
    "elif (a==b) and (a>c):\n",
    "    print(f\"Mayor: {a} (Repetido)\")    \n",
    "    print(f\"Medio: {c} \")  \n",
    "    print(f\"Menor: {c} \")  \n",
    "elif (a==c) and (a>b):\n",
    "    print(f\"Mayor: {a} (Repetido)\")    \n",
    "    print(f\"Medio: {b} \")  \n",
    "    print(f\"Menor: {b} \")    \n",
    "elif (b==c) and (b>a):\n",
    "    print(f\"Mayor: {b} (Repetido)\")    \n",
    "    print(f\"Medio: {a} \")  \n",
    "    print(f\"Menor: {a} \")    \n",
    "elif (a==b) and (a<c):\n",
    "    print(f\"Mayor: {c} \")    \n",
    "    print(f\"Medio: {a} (Repetido)\")  \n",
    "    print(f\"Menor: {a} (Repetido)\") \n",
    "elif (a==c) and (a<b):\n",
    "    print(f\"Mayor: {b} \")    \n",
    "    print(f\"Medio: {a} (Repetido)\")  \n",
    "    print(f\"Menor: {a} (Repetido)\")  \n",
    "elif (b==c) and (b<a):\n",
    "    print(f\"Mayor: {b} \")    \n",
    "    print(f\"Medio: {a} (Repetido)\")  \n",
    "    print(f\"Menor: {a} (Repetido)\") \n",
    "else:\n",
    "    if a>b and a>c:\n",
    "        mayor=a\n",
    "        if b>c:\n",
    "            medio = b\n",
    "            menor = c\n",
    "        else:\n",
    "            medio = c\n",
    "            menor = b\n",
    "    elif b>a and b>c:\n",
    "        mayor=b\n",
    "        if a>c:\n",
    "            medio=a\n",
    "            menor=c\n",
    "        else:\n",
    "            medio=c\n",
    "            menor=a\n",
    "    else:\n",
    "        mayor=c\n",
    "        if a>b:\n",
    "            medio=a\n",
    "            menor=b\n",
    "        else:\n",
    "            medio=b\n",
    "            menor=a                           \n",
    "\n",
    "print(f\"Mayor: {mayor}\")        \n",
    "print(f\"Medio: {medio}\")    \n",
    "print(f\"Menor: {menor}\")    \n",
    "        "
   ]
  }
 ],
 "metadata": {
  "kernelspec": {
   "display_name": "Python 3",
   "language": "python",
   "name": "python3"
  },
  "language_info": {
   "codemirror_mode": {
    "name": "ipython",
    "version": 3
   },
   "file_extension": ".py",
   "mimetype": "text/x-python",
   "name": "python",
   "nbconvert_exporter": "python",
   "pygments_lexer": "ipython3",
   "version": "3.13.4"
  }
 },
 "nbformat": 4,
 "nbformat_minor": 5
}
