{
 "cells": [
  {
   "cell_type": "markdown",
   "id": "47d5ebef",
   "metadata": {},
   "source": [
    "Realice un programa que se encargue de facturar un pedido de pizza para\n",
    " un usuario. Para iniciar determine los precios para el tamaño de pizza, S, M y\n",
    " L. El costo de agregar peperoni a la pizza S, M o L y el costo de agregar\n",
    " extra queso a la Pizza S, M o L.\n",
    " Debe preguntar al usuario cada uno de los datos y al final entregar el precio\n",
    " final a pagar por la pizza."
   ]
  },
  {
   "cell_type": "code",
   "execution_count": null,
   "id": "363364d7",
   "metadata": {},
   "outputs": [
    {
     "name": "stdout",
     "output_type": "stream",
     "text": [
      "El valor de la factura es: 1110\n"
     ]
    }
   ],
   "source": [
    "#valores de pizza\n",
    "pizza_s = 1000\n",
    "pizza_m = 1000\n",
    "pizza_l = 1000\n",
    "#valores de agregar peperoni\n",
    "peperoni_s = 100\n",
    "peperoni_m = 200\n",
    "peperoni_l = 300\n",
    "#valores de agregar extraqueso\n",
    "extraq_s = 10\n",
    "extraq_m = 20\n",
    "extraq_l = 30\n",
    "\n",
    "pizza_comprar = input(\"Que tamaño de pizza desea comprar S, M o L\")\n",
    "peperoni_agregar = input(\"¿Desea agregar pepperoni SI o NO?\")\n",
    "extraq_agregar = input(\"¿Desea agregar queso SI o NO?\")\n",
    "\n",
    "if (pizza_comprar == \"S\") and peperoni_agregar == \"SI\" and extraq_agregar == \"SI\":\n",
    "    valor_factura= pizza_s + peperoni_s + extraq_s\n",
    "    print(f\"El valor de la factura es: {valor_factura}\")\n",
    "elif (pizza_comprar == \"S\") and peperoni_agregar == \"SI\" and extraq_agregar == \"NO\":\n",
    "    valor_factura= pizza_s + peperoni_s\n",
    "    print(f\"El valor de la factura es: {valor_factura}\")    \n",
    "else:\n",
    "    valor_factura = 0\n",
    "    print(f\"El valor de la factura es: {valor_factura}\")\n",
    "    \n",
    "        "
   ]
  },
  {
   "cell_type": "code",
   "execution_count": null,
   "id": "37d93080",
   "metadata": {},
   "outputs": [],
   "source": [
    "#valores de pizza\n",
    "pizza_s = 1000\n",
    "pizza_m = 1000\n",
    "pizza_l = 1000\n",
    "#valores de agregar peperoni\n",
    "peperoni_s = 100\n",
    "peperoni_m = 200\n",
    "peperoni_l = 300\n",
    "#valores de agregar extraqueso\n",
    "extraq_s = 10\n",
    "extraq_m = 20\n",
    "extraq_l = 30\n",
    "\n",
    "pizza_comprar = input(\"Que tamaño de pizza desea comprar S, M o L\")\n",
    "peperoni_agregar = input(\"¿Desea agregar pepperoni si o no?\")\n",
    "extraq_agregar = input(\"¿Desea agregar queso si o no?\")\n",
    "\n",
    "valor_factura = valor_factura= pizza_s + peperoni_s + extraq_s if pizza_comprar == \"S\" and peperoni_agregar == \"SI\" and extraq_agregar == \"SI\" else 0\n",
    "print(f\"El valor de la factura es: {valor_factura}\")\n"
   ]
  }
 ],
 "metadata": {
  "kernelspec": {
   "display_name": "Python 3",
   "language": "python",
   "name": "python3"
  },
  "language_info": {
   "codemirror_mode": {
    "name": "ipython",
    "version": 3
   },
   "file_extension": ".py",
   "mimetype": "text/x-python",
   "name": "python",
   "nbconvert_exporter": "python",
   "pygments_lexer": "ipython3",
   "version": "3.13.4"
  }
 },
 "nbformat": 4,
 "nbformat_minor": 5
}
