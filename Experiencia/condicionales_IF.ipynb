{
 "cells": [
  {
   "cell_type": "markdown",
   "id": "14ba887c",
   "metadata": {},
   "source": [
    "1. Dado un número entero, imprime \"Positivo\" si es mayor que cero, o \"No positivo\" en caso contrario."
   ]
  },
  {
   "cell_type": "code",
   "execution_count": null,
   "id": "101e8ade",
   "metadata": {},
   "outputs": [
    {
     "name": "stdout",
     "output_type": "stream",
     "text": [
      "El número -1 es meno -1\n"
     ]
    }
   ],
   "source": [
    "numero = int(input(\"Digite por favor un número\"))\n",
    "\n",
    "if numero > 0:\n",
    "    print(\"El número\", numero, \"es positivo\")\n",
    "else:\n",
    "    print(f\"El número {numero} NO es positivo\")\n",
    "    #print(\"El número {} es menor\".format(numero))\n",
    "    #print(\"El número {a} es menor {b}\".format(a=numero, b=numero))"
   ]
  },
  {
   "cell_type": "markdown",
   "id": "c41dbfeb",
   "metadata": {},
   "source": [
    "2. Dado un número imprime si es par o impar"
   ]
  },
  {
   "cell_type": "code",
   "execution_count": 8,
   "id": "7b5f403c",
   "metadata": {},
   "outputs": [
    {
     "name": "stdout",
     "output_type": "stream",
     "text": [
      "El número 2 es PAR\n"
     ]
    }
   ],
   "source": [
    "n = int(input(\"Digite un número para comparar si es par: \"))\n",
    "\n",
    "if n % 2 == 0:\n",
    "    print(f\"El número {n} es PAR\")\n",
    "else:\n",
    "    print(f\"El número {n} es IMPAR\")"
   ]
  },
  {
   "cell_type": "markdown",
   "id": "9c417960",
   "metadata": {},
   "source": [
    "3. Dado el sueldo de un empleado determinar si esta entre los siguiente rangos:\n",
    "\n",
    "* menor a 1.000.000\n",
    "* 1.000.000 - 2.000.000\n",
    "* 2.000.001 - 3.000.000\n",
    "* 3.000.001 - 4.000.000\n",
    "* mayor a 4.000.000\n",
    "\n",
    "e imprimir un mensaje sobre que ranGo se encuentra"
   ]
  },
  {
   "cell_type": "code",
   "execution_count": 14,
   "id": "1f6eabec",
   "metadata": {},
   "outputs": [
    {
     "name": "stdout",
     "output_type": "stream",
     "text": [
      "Su sueldo es mayor a los 2.000.000 y menor o igual a los 3.000.000\n"
     ]
    }
   ],
   "source": [
    "sueldo = 2_000_001\n",
    "\n",
    "if sueldo < 1000000:\n",
    "    print(\"Su sueldo es inferior a 1.000.000\")\n",
    "elif sueldo >= 1000000 and sueldo <= 2000000:\n",
    "    print(\"Su sueldo es mayor o igual a 1.000.000 y menor o igual a los 2.000.000\")\n",
    "elif sueldo > 2000000 and sueldo <= 3000000:\n",
    "    print(\"Su sueldo es mayor a los 2.000.000 y menor o igual a los 3.000.000\")\n",
    "elif sueldo > 3000000 and sueldo <= 4000000:\n",
    "    print(\"Su sueldo es mayor a los 3.000.000 y menor o igual a los 4.000.000\")\n",
    "else:\n",
    "    print(\"Su sueldo es mayor a los 4.000.000\")"
   ]
  },
  {
   "cell_type": "markdown",
   "id": "ac8c08e7",
   "metadata": {},
   "source": [
    "4. Un club privado está organizando un evento exclusivo. Solo pueden ingresar las personas que cumplen todas estas condiciones:\n",
    "\n",
    "- Tienen una invitación válida (la variable `tiene_invitacion` es True).\n",
    "- Son mayores de edad (la variable `edad` es mayor o igual a 18).\n",
    "- Si la persona es menor de 21 años, debe asistir acompañada de un adulto (la variable `acompanado_por_adulto` es True).\n",
    "\n",
    "Crea un programa en Python que, utilizando condicionales anidados, determine si una persona puede ingresar al evento y muestre un mensaje apropiado."
   ]
  },
  {
   "cell_type": "code",
   "execution_count": 7,
   "id": "ed1f69df",
   "metadata": {},
   "outputs": [
    {
     "name": "stdout",
     "output_type": "stream",
     "text": [
      "No puede ingresar al evento, NO esta acompañada de adulto\n"
     ]
    }
   ],
   "source": [
    "tiene_invitacion = True\n",
    "edad = 20\n",
    "acompanado_por_adulto = False\n",
    "\n",
    "if tiene_invitacion:\n",
    "    if edad >= 18:\n",
    "        if edad < 21:\n",
    "            if acompanado_por_adulto:\n",
    "                print(\"Puede ingresar al evento, esta acompaña de adulto\")\n",
    "            else:\n",
    "                print(\"No puede ingresar al evento, NO esta acompañada de adulto\")\n",
    "        else:\n",
    "            print(\"puede ingresar al evento\")\n",
    "    else:\n",
    "        print(\"USTE ES MENOR DE EDAD, NO puede ingresar al evento\")\n",
    "else:\n",
    "    print(\"DEBE TENER UNA INVITACIÓN, NO puede ingresar al evento\")"
   ]
  },
  {
   "cell_type": "code",
   "execution_count": null,
   "id": "1252969c",
   "metadata": {},
   "outputs": [
    {
     "name": "stdout",
     "output_type": "stream",
     "text": [
      "NO PUEDE INGRESAR MENOR EDAD\n"
     ]
    }
   ],
   "source": [
    "tiene_invitacion = True\n",
    "edad = 17\n",
    "acompanado_por_adulto = False\n",
    "\n",
    "if tiene_invitacion and (edad >= 18 and edad < 21) or edad > 21:\n",
    "        if acompanado_por_adulto:\n",
    "            print(\"Puede ingresar al evento, esta acompaña de adulto\")\n",
    "        else:\n",
    "            print(\"No puede ingresar al evento, NO esta acompañada de adulto\")\n",
    "else:\n",
    "    print(\"NO puede ingresar al evento\")"
   ]
  },
  {
   "cell_type": "markdown",
   "id": "ed73441b",
   "metadata": {},
   "source": [
    "5. Una universidad ofrece una beca a los estudiantes que cumplen las siguientes condiciones:\n",
    "\n",
    "- Deben tener una nota promedio mayor o igual a 85 (la variable `promedio`).\n",
    "- Deben haber aprobado el examen de inglés (la variable `examen_ingles` es True).\n",
    "- Si el estudiante es menor de 21 años (la variable `edad`), también debe presentar una carta de recomendación (la variable `tiene_carta` es True).\n",
    "\n",
    "Crea un programa en Python que utilizando condicionales anidados determine si el estudiante puede obtener la beca y muestre un mensaje apropiado."
   ]
  },
  {
   "cell_type": "code",
   "execution_count": 19,
   "id": "10a51af6",
   "metadata": {},
   "outputs": [
    {
     "name": "stdout",
     "output_type": "stream",
     "text": [
      "NO APROBO EXAMEN INGLES - NO puede aspirar a la beca\n"
     ]
    }
   ],
   "source": [
    "promedio = 88.9\n",
    "examen_ingles = False\n",
    "edad = 25\n",
    "tiene_carta = True\n",
    "\n",
    "if promedio >= 85:\n",
    "    if examen_ingles:\n",
    "        if edad <= 21:\n",
    "            if tiene_carta:\n",
    "                print(\"Puede aspirar a la beca tiene carta\")\n",
    "            else:\n",
    "                print(\"Para aspirar a la beca debe tener una carta ya que es menor a 21 años\")\n",
    "        else:\n",
    "            print(\"Usted cumple con los requisitos, puede aspirar a la beca\")\n",
    "    else:\n",
    "        print(\"NO APROBO EXAMEN INGLES - NO puede aspirar a la beca\")\n",
    "else:\n",
    "    print(\"NO TIENE EL PROMEDIO REQUERIDO - NO puede aspirar a la beca\")"
   ]
  },
  {
   "cell_type": "markdown",
   "id": "b251078d",
   "metadata": {},
   "source": [
    "6. Un concierto tiene una zona VIP con las siguientes reglas de ingreso:\n",
    "\n",
    "- Debe tener una pulsera VIP (la variable `tiene_pulsera` es True).\n",
    "- Debe tener al menos 16 años (`edad` ≥ 16).\n",
    "- Si la persona tiene entre 16 y 17 años, debe presentar autorización firmada de sus padres (`autorizacion_padres` es True).\n",
    "\n",
    "Crea un programa en Python que, utilizando condicionales anidados, determine si la persona puede ingresar a la zona VIP y muestre un mensaje apropiado."
   ]
  },
  {
   "cell_type": "code",
   "execution_count": 2,
   "id": "e6c227b8",
   "metadata": {},
   "outputs": [
    {
     "name": "stdout",
     "output_type": "stream",
     "text": [
      "Puede ingresar a zona VIP\n"
     ]
    }
   ],
   "source": [
    "tiene_pulsera = True\n",
    "edad = 21\n",
    "autorizacion_padres = True\n",
    "\n",
    "if tiene_pulsera:\n",
    "    if edad >= 16:\n",
    "        if edad < 18:\n",
    "            if autorizacion_padres:\n",
    "                print(\"Puedes ingresar a la zona VIP del concierto\")\n",
    "            else:\n",
    "                print(\"NO puede ingresar a ZONA VIP del concierto\")\n",
    "        else:\n",
    "            print(\"Puede ingresar a zona VIP\")\n",
    "    else:\n",
    "        print(\"No puede ingresar a ZONA VIP, debe tener al menos 16 años para ingresar\")\n",
    "else:\n",
    "    print(\"NO TIENE PULSERA VIP\")"
   ]
  },
  {
   "cell_type": "markdown",
   "id": "dd171e1f",
   "metadata": {},
   "source": [
    "7. Para ingresar a la biblioteca universitaria fuera del horario normal se requiere cumplir:\n",
    "\n",
    "- Ser estudiante registrado (la variable `es_estudiante` es True).\n",
    "- Tener credencial vigente (`credencial_vigente` es True).\n",
    "- Si el estudiante tiene menos de 20 años(edad = ?), debe estar acompañado por un profesor (`acompanado_por_profesor` es True).\n",
    "\n",
    "Crea un programa en Python que, utilizando condicionales anidados, determine si puede acceder a la biblioteca y muestre un mensaje apropiado."
   ]
  },
  {
   "cell_type": "code",
   "execution_count": null,
   "id": "1c2bbe46",
   "metadata": {},
   "outputs": [],
   "source": [
    "es_estudiante = True\n",
    "credencial_vigente = True\n",
    "edad = 17\n",
    "acompanado_por_profesor = True\n",
    "\n",
    "if es_estudiante:\n",
    "    if credencial_vigente:\n",
    "        if edad < 20:\n",
    "            if acompanado_por_profesor:\n",
    "                print(\"PUEDE INGRESAR FUERA DE HORARIO\")\n",
    "            else:\n",
    "                print (\"NO PUEDE INGRESAR FUERA DE HORARIO\")\n",
    "        else:\n",
    "            print(\"Puede ingresar fuera de horario\")\n",
    "    else:\n",
    "        print(\"NO puede ingresar NO TIENE CREDENCIAL VIGENTE\")\n",
    "else:\n",
    "    print(\"INGRESAN SOLO ESTUDIANTES\")"
   ]
  },
  {
   "cell_type": "markdown",
   "id": "00ef72d4",
   "metadata": {},
   "source": [
    "8. Durante el verano, la familia Ramírez planea pasar unos días en su casa de campo, pero solo pueden acceder ciertos miembros bajo condiciones especiales. La abuela Carmen es la encargada de abrir la puerta y verifica lo siguiente:  \n",
    "Solo puede dejar pasar a quienes tengan la llave de la casa. Ademas si la persona tiene menos de 15 años solo puede entrar si está acompañada por un adulto responsable. Además, nadie puede entrar después de las 10 de la noche.\n",
    "\n",
    "\n",
    "* PLANTEADO FORMALMENTE\n",
    "\n",
    "Un grupo familiar tiene acceso a una casa de campo bajo estas reglas:\n",
    "\n",
    "- Deben tener la llave de la casa (`tiene_llave` es True).\n",
    "- Si la persona es menor de 15 años (`edad` < 15), solo puede ingresar si está acompañada de un adulto (`acompanado_por_adulto` es True).\n",
    "- Nadie puede ingresar después de las 10 de la noche (`hora` ≤ 22)."
   ]
  },
  {
   "cell_type": "markdown",
   "id": "404d5666",
   "metadata": {},
   "source": [
    "9. Determinar el mayor, el del medio y el menor entre tres números, considerando si entre los números ingresados hay iguales."
   ]
  },
  {
   "cell_type": "code",
   "execution_count": 1,
   "id": "6192181b",
   "metadata": {},
   "outputs": [
    {
     "ename": "ValueError",
     "evalue": "could not convert string to float: ''",
     "output_type": "error",
     "traceback": [
      "\u001b[31m---------------------------------------------------------------------------\u001b[39m",
      "\u001b[31mValueError\u001b[39m                                Traceback (most recent call last)",
      "\u001b[36mCell\u001b[39m\u001b[36m \u001b[39m\u001b[32mIn[1]\u001b[39m\u001b[32m, line 1\u001b[39m\n\u001b[32m----> \u001b[39m\u001b[32m1\u001b[39m a = \u001b[38;5;28;43mfloat\u001b[39;49m\u001b[43m(\u001b[49m\u001b[38;5;28;43minput\u001b[39;49m\u001b[43m(\u001b[49m\u001b[33;43m\"\u001b[39;49m\u001b[33;43mDigite el primer número: \u001b[39;49m\u001b[33;43m\"\u001b[39;49m\u001b[43m)\u001b[49m\u001b[43m)\u001b[49m\n\u001b[32m      2\u001b[39m b = \u001b[38;5;28mfloat\u001b[39m(\u001b[38;5;28minput\u001b[39m(\u001b[33m\"\u001b[39m\u001b[33mDigite el segundo número: \u001b[39m\u001b[33m\"\u001b[39m))\n\u001b[32m      3\u001b[39m c = \u001b[38;5;28mfloat\u001b[39m(\u001b[38;5;28minput\u001b[39m(\u001b[33m\"\u001b[39m\u001b[33mDigite el tercer número: \u001b[39m\u001b[33m\"\u001b[39m))\n",
      "\u001b[31mValueError\u001b[39m: could not convert string to float: ''"
     ]
    }
   ],
   "source": [
    "a = float(input(\"Digite el primer número: \"))\n",
    "b = float(input(\"Digite el segundo número: \"))\n",
    "c = float(input(\"Digite el tercer número: \"))\n",
    "\n",
    "#comparación todos iguales\n",
    "if a == b == c:\n",
    "    print(\"Los tres números son iguales.\")\n",
    "\n",
    "elif(a == b) and a > c:\n",
    "    print(f\"Mayor: {a} (Repetido)\")\n",
    "    print(f\"Medio: {c}\")\n",
    "    print(f\"Menor: {c}\")\n",
    "elif(a == c) and a > b:\n",
    "    print(f\"Mayor: {a} (Repetido)\")\n",
    "    print(f\"Medio: {b}\")\n",
    "    print(f\"Menor: {b}\")\n",
    "elif(b == c) and b > a:\n",
    "    print(f\"Mayor: {b} (Repetido)\")\n",
    "    print(f\"Medio: {a}\")\n",
    "    print(f\"Menor: {a}\")\n",
    "elif(a == b) and a < c:\n",
    "    print(f\"Mayor: {c}\")\n",
    "    print(f\"Medio: {a} (Repetido)\")\n",
    "    print(f\"Menor: {a} (Repetido)\")\n",
    "elif(a == c) and a < b:\n",
    "    print(f\"Mayor: {b}\")\n",
    "    print(f\"Medio: {a} (Repetido)\")\n",
    "    print(f\"Menor: {a} (Repetido)\")\n",
    "elif(b == c) and b < a:\n",
    "    print(f\"Mayor: {a}\")\n",
    "    print(f\"Medio: {b} (Repetido)\")\n",
    "    print(f\"Menor: {b} (Repetido)\")\n",
    "else:\n",
    "    if a > b and a > c:\n",
    "        mayor = a\n",
    "        if b > c:\n",
    "            medio = b\n",
    "            menor = c\n",
    "        else:\n",
    "            medio = c\n",
    "            menor = b\n",
    "\n",
    "    elif b > a and b > c:\n",
    "        mayor = b\n",
    "        if a > c:\n",
    "            medio = a\n",
    "            menor = c\n",
    "        else:\n",
    "            medio = c\n",
    "            menor = a\n",
    "    else:\n",
    "        mayor = c\n",
    "        if a > b:\n",
    "            medio = a\n",
    "            menor = b\n",
    "        else:\n",
    "            medio = b\n",
    "            menor = a\n",
    "    print(f\"Mayor: {mayor}\")\n",
    "    print(f\"Medio: {medio}\")\n",
    "    print(f\"Menor: {menor}\")"
   ]
  },
  {
   "cell_type": "markdown",
   "id": "147db97d",
   "metadata": {},
   "source": [
    "### ***EJERCICIOS FORO***\n",
    "\n",
    "## ***1.***\n",
    "\n",
    "Una persona desea saber si puede conducir cierto tipo de vehículo. Las reglas son:\n",
    "\n",
    "- Debe tener licencia de conducir vigente (la variable `tiene_licencia` es True).\n",
    "- Si la persona tiene menos de 21 años (la variable `edad`), solo puede conducir motocicleta (la variable `vehiculo` es igual a `\"motocicleta\"`).\n",
    "- Si la persona tiene 21 años o más, puede conducir motocicleta o automóvil (la variable `vehiculo` es `\"motocicleta\"` o `\"automovil\"`).\n",
    "\n",
    "Crea un programa en Python que utilice condicionales anidados para determinar si la persona puede conducir el tipo de vehículo elegido y muestre un mensaje apropiado.\n"
   ]
  },
  {
   "cell_type": "code",
   "execution_count": 10,
   "id": "a22c7530",
   "metadata": {},
   "outputs": [
    {
     "name": "stdout",
     "output_type": "stream",
     "text": [
      "Puedes conducir tanto motocicleta como automovil\n"
     ]
    }
   ],
   "source": [
    "tiene_licencia = True\n",
    "edad = 21\n",
    "vehiculo=\"automovil\"\n",
    "\n",
    "if tiene_licencia:\n",
    "    if edad < 21:\n",
    "        if vehiculo ==\"motocicleta\":\n",
    "            print(\"Si tienes la edad para conducir motocicleta\")\n",
    "        elif vehiculo == \"automovil\":\n",
    "            print(\"No tienes la edad para conducir automovil\")  \n",
    "    else:\n",
    "        if (vehiculo ==\"motocicleta\") or (vehiculo == \"automovil\"):          \n",
    "            print(\"Puedes conducir tanto motocicleta como automovil\")\n",
    "else:\n",
    "    print(\"No puedo conducir ningun tipo de vehiculo, no tiene licencia\")    "
   ]
  },
  {
   "cell_type": "markdown",
   "id": "149070fe",
   "metadata": {},
   "source": [
    "### ***2.***\n",
    "\n",
    "Una tienda ofrece un descuento especial bajo estas condiciones:\n",
    "\n",
    "- El cliente debe tener membresía activa (la variable `membresia_activa` es True).\n",
    "- Si la edad del cliente (`edad`) es menor de 18, el descuento es del 10%.\n",
    "- Si la edad está entre 18 y 60 (inclusive), el descuento es del 20%.\n",
    "- Si la edad es mayor de 60, el descuento es del 30%.\n",
    "\n",
    "Crea un programa en Python que utilice condicionales anidados para determinar el descuento que recibe un cliente y muestre el porcentaje de descuento o un mensaje si no tiene derecho al descuento."
   ]
  },
  {
   "cell_type": "code",
   "execution_count": 16,
   "id": "f1401b2b",
   "metadata": {},
   "outputs": [
    {
     "name": "stdout",
     "output_type": "stream",
     "text": [
      "Para tu edad de: 70 años, tienes un descuento del 30%\n"
     ]
    }
   ],
   "source": [
    "membresia_activa = True\n",
    "edad = 70\n",
    "descuento = 0\n",
    "\n",
    "if membresia_activa:\n",
    "    if edad < 18:\n",
    "        descuento = 10\n",
    "    elif (edad >= 18) and (edad <= 60):\n",
    "        descuento = 20\n",
    "    else:\n",
    "        descuento = 30\n",
    "    print(f\"Para tu edad de: {edad} años, tienes un descuento del {descuento}%\")                \n",
    "else:\n",
    "    print(\"No tiene su membresía activa\")\n",
    "    "
   ]
  },
  {
   "cell_type": "markdown",
   "id": "7979071d",
   "metadata": {},
   "source": [
    "### ***3.***\n",
    "\n",
    "Determinar si un número ingresado por teclado es primo"
   ]
  },
  {
   "cell_type": "code",
   "execution_count": null,
   "id": "1ef02d9e",
   "metadata": {},
   "outputs": [],
   "source": [
    "numero = int(input(\"Ingresa un número: \"))\n",
    "\n",
    "if numero <= 1:\n",
    "    print(\"El número no es primo\")\n",
    "else:\n",
    "    es_primo = True\n",
    "    for i in range(2, numero):\n",
    "        if numero % i == 0:\n",
    "            es_primo = False\n",
    "            break\n",
    "\n",
    "    if es_primo:\n",
    "        print(f\"El número {numero} es primo\")\n",
    "    else:\n",
    "        print(f\"El número {numero} no es primo\")"
   ]
  }
 ],
 "metadata": {
  "kernelspec": {
   "display_name": "Python 3",
   "language": "python",
   "name": "python3"
  },
  "language_info": {
   "codemirror_mode": {
    "name": "ipython",
    "version": 3
   },
   "file_extension": ".py",
   "mimetype": "text/x-python",
   "name": "python",
   "nbconvert_exporter": "python",
   "pygments_lexer": "ipython3",
   "version": "3.13.4"
  }
 },
 "nbformat": 4,
 "nbformat_minor": 5
}
