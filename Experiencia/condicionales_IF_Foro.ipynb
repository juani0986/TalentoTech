{
 "cells": [
  {
   "cell_type": "markdown",
   "id": "147db97d",
   "metadata": {},
   "source": [
    "### ***EJERCICIOS FORO***\n",
    "\n",
    "## ***1.***\n",
    "\n",
    "Una persona desea saber si puede conducir cierto tipo de vehículo. Las reglas son:\n",
    "\n",
    "- Debe tener licencia de conducir vigente (la variable `tiene_licencia` es True).\n",
    "- Si la persona tiene menos de 21 años (la variable `edad`), solo puede conducir motocicleta (la variable `vehiculo` es igual a `\"motocicleta\"`).\n",
    "- Si la persona tiene 21 años o más, puede conducir motocicleta o automóvil (la variable `vehiculo` es `\"motocicleta\"` o `\"automovil\"`).\n",
    "\n",
    "Crea un programa en Python que utilice condicionales anidados para determinar si la persona puede conducir el tipo de vehículo elegido y muestre un mensaje apropiado.\n"
   ]
  },
  {
   "cell_type": "code",
   "execution_count": null,
   "id": "a22c7530",
   "metadata": {},
   "outputs": [
    {
     "name": "stdout",
     "output_type": "stream",
     "text": [
      "Puedes conducir tanto motocicleta como automovil\n"
     ]
    }
   ],
   "source": [
    "tiene_licencia = True\n",
    "edad = 21\n",
    "vehiculo = \"motocicleta\"\n",
    "\n",
    "if tiene_licencia:\n",
    "    if edad < 21:\n",
    "        if vehiculo ==\"motocicleta\":\n",
    "            print(\"Si tienes la edad para conducir motocicleta\")\n",
    "        elif vehiculo == \"automovil\":\n",
    "            print(\"No tienes la edad para conducir automovil\")  \n",
    "    else:\n",
    "        if (vehiculo ==\"motocicleta\") or (vehiculo == \"automovil\"):          \n",
    "            print(\"Puedes conducir tanto motocicleta como automovil\")\n",
    "else:\n",
    "    print(\"No puedo conducir ningun tipo de vehiculo, no tiene licencia\")    "
   ]
  },
  {
   "cell_type": "markdown",
   "id": "149070fe",
   "metadata": {},
   "source": [
    "### ***2.***\n",
    "\n",
    "Una tienda ofrece un descuento especial bajo estas condiciones:\n",
    "\n",
    "- El cliente debe tener membresía activa (la variable `membresia_activa` es True).\n",
    "- Si la edad del cliente (`edad`) es menor de 18, el descuento es del 10%.\n",
    "- Si la edad está entre 18 y 60 (inclusive), el descuento es del 20%.\n",
    "- Si la edad es mayor de 60, el descuento es del 30%.\n",
    "\n",
    "Crea un programa en Python que utilice condicionales anidados para determinar el descuento que recibe un cliente y muestre el porcentaje de descuento o un mensaje si no tiene derecho al descuento."
   ]
  },
  {
   "cell_type": "code",
   "execution_count": 16,
   "id": "f1401b2b",
   "metadata": {},
   "outputs": [
    {
     "name": "stdout",
     "output_type": "stream",
     "text": [
      "Para tu edad de: 70 años, tienes un descuento del 30%\n"
     ]
    }
   ],
   "source": [
    "membresia_activa = True\n",
    "edad = 70\n",
    "descuento = 0\n",
    "\n",
    "if membresia_activa:\n",
    "    if edad < 18:\n",
    "        descuento = 10\n",
    "    elif (edad >= 18) and (edad <= 60):\n",
    "        descuento = 20\n",
    "    else:\n",
    "        descuento = 30\n",
    "    print(f\"Para tu edad de: {edad} años, tienes un descuento del {descuento}%\")                \n",
    "else:\n",
    "    print(\"No tiene su membresía activa\")\n",
    "    "
   ]
  },
  {
   "cell_type": "markdown",
   "id": "7979071d",
   "metadata": {},
   "source": [
    "### ***3.***\n",
    "\n",
    "Determinar si un número ingresado por teclado es primo"
   ]
  },
  {
   "cell_type": "code",
   "execution_count": null,
   "id": "1ef02d9e",
   "metadata": {},
   "outputs": [],
   "source": [
    "numero = int(input(\"Ingresa un número: \"))\n",
    "\n",
    "if numero <= 1:\n",
    "    print(\"El número no es primo\")\n",
    "else:\n",
    "    es_primo = True\n",
    "    for i in range(2, numero):\n",
    "        if numero % i == 0:\n",
    "            es_primo = False\n",
    "            break\n",
    "\n",
    "    if es_primo:\n",
    "        print(f\"El número {numero} es primo\")\n",
    "    else:\n",
    "        print(f\"El número {numero} no es primo\")"
   ]
  }
 ],
 "metadata": {
  "kernelspec": {
   "display_name": "Python 3",
   "language": "python",
   "name": "python3"
  },
  "language_info": {
   "codemirror_mode": {
    "name": "ipython",
    "version": 3
   },
   "file_extension": ".py",
   "mimetype": "text/x-python",
   "name": "python",
   "nbconvert_exporter": "python",
   "pygments_lexer": "ipython3",
   "version": "3.13.4"
  }
 },
 "nbformat": 4,
 "nbformat_minor": 5
}
