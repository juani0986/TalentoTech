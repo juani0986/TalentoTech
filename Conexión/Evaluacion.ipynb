{
 "cells": [
  {
   "cell_type": "markdown",
   "id": "520a00f7",
   "metadata": {},
   "source": [
    "**Evaluación práctica -  EDISON ANDRES ARTEAGA LOPEZ**\n",
    "Complete los siguientes ejercicios sin ejemplos previos. Puede usar cualquier tipo de ciclo.\n",
    "Solicite al usuario ingresar 5 nombres y guárdelos en una lista.\n",
    "Muestre cuántos nombres comienzan con la letra \"A\".\n",
    "Cree una simulación de llenado de formulario donde se pide la edad y se valida que sea un número entre 18 y 99. Si no es válido, se repite."
   ]
  },
  {
   "cell_type": "code",
   "execution_count": 6,
   "id": "8b16ff4d",
   "metadata": {},
   "outputs": [
    {
     "name": "stdout",
     "output_type": "stream",
     "text": [
      "Lista de nombres: ['Andrea', 'Marcela', 'ana', 'sebastian', 'Andres']\n",
      "Lista de edades: [38, 56, 78, 18, 43]\n",
      "Nombres que inician con 'A': 2\n"
     ]
    }
   ],
   "source": [
    "lista_nombres = list() \n",
    "lista_Edad = list() \n",
    "contador = 0\n",
    "\n",
    "while contador < 5:\n",
    "    nombre = input(f\"Ingrese nombre número {contador + 1}: \")  \n",
    "    while True:\n",
    "        edad = int(input(f\"Ingrese edad número {contador + 1}: \")) \n",
    "        if 18 <= edad <= 99:\n",
    "            lista_Edad.append(edad)  \n",
    "            break\n",
    "        else:\n",
    "            print('La edad debe estar en el rango entre 18 y 99')\n",
    "\n",
    "    lista_nombres.append(nombre)  \n",
    "    contador += 1\n",
    "\n",
    "print(\"Lista de nombres:\", lista_nombres)\n",
    "print(\"Lista de edades:\", lista_Edad)    \n",
    "\n",
    "contador_nom_a = 0\n",
    "for nombre in lista_nombres:\n",
    "    nombre = nombre.strip() \n",
    "    #if nombre and nombre[0].upper() == 'A':\n",
    "    if nombre and nombre[0] == 'A':\n",
    "        contador_nom_a += 1\n",
    "\n",
    "print(\"Nombres que inician con 'A':\", contador_nom_a)"
   ]
  }
 ],
 "metadata": {
  "kernelspec": {
   "display_name": "Python 3",
   "language": "python",
   "name": "python3"
  },
  "language_info": {
   "codemirror_mode": {
    "name": "ipython",
    "version": 3
   },
   "file_extension": ".py",
   "mimetype": "text/x-python",
   "name": "python",
   "nbconvert_exporter": "python",
   "pygments_lexer": "ipython3",
   "version": "3.13.4"
  }
 },
 "nbformat": 4,
 "nbformat_minor": 5
}
