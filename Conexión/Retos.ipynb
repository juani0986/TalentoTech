{
  "cells": [
    {
      "cell_type": "markdown",
      "metadata": {
        "id": "4m8U_CRt0YFZ"
      },
      "source": [
        "## Reto 1: Variables y Tipos de Datos\n",
        "\n",
        "**Descripción:**\n",
        "\n",
        "1.  Crea una variable llamada `nombre` y asígnale tu nombre (como una cadena de texto).\n",
        "2.  Crea una variable llamada `edad` y asígnale tu edad (como un número entero).\n",
        "3.  Crea una variable llamada `altura` y asígnale tu altura en metros (como un número decimal, por ejemplo, 1.75).\n",
        "4.  Crea una variable llamada `mayor_de_edad` y asígnale un valor booleano (`True` si eres mayor de edad, `False` si no lo eres).\n",
        "5.  Imprime cada variable en una línea separada, usando la función `print()`.\n",
        "\n",
        "**Resultado Esperado:**\n",
        "\n",
        "Tu Nombre\n",
        "\n",
        "Tu Edad\n",
        "\n",
        "Tu Altura\n",
        "\n",
        "True o False (según corresponda)"
      ]
    },
    {
      "cell_type": "code",
      "execution_count": 1,
      "metadata": {
        "id": "eFzXEKR10V7K"
      },
      "outputs": [
        {
          "name": "stdout",
          "output_type": "stream",
          "text": [
            "Andrea\n",
            "39\n",
            "1.58\n",
            "True\n"
          ]
        }
      ],
      "source": [
        "nombre = 'Andrea'\n",
        "edad = 39\n",
        "altura = 1.58 \n",
        "\n",
        "if (edad >= 18):\n",
        "    mayor_de_edad=True\n",
        "else:\n",
        "    mayor_de_edad=False    \n",
        "\n",
        "print(nombre)\n",
        "print(edad)\n",
        "print(altura)\n",
        "print(mayor_de_edad)"
      ]
    },
    {
      "cell_type": "markdown",
      "metadata": {
        "id": "xDAPlHAk0-ip"
      },
      "source": [
        "## Reto 2: Manejo de Listas\n",
        "\n",
        "**Descripción:**\n",
        "\n",
        "1.  Crea una lista llamada `frutas` que contenga los siguientes elementos: \"manzana\", \"banana\", \"naranja\", \"uva\", \"kiwi\".\n",
        "2.  Imprime el segundo elemento de la lista (recuerda que la indexación en Python comienza en 0).\n",
        "3.  Agrega \"pera\" al final de la lista.\n",
        "4.  Elimina \"naranja\" de la lista.\n",
        "5.  Imprime la lista modificada.\n",
        "\n",
        "**Resultado Esperado:**\n",
        "\n",
        "banana\n",
        "\n",
        "['manzana', 'banana', 'uva', 'kiwi', 'pera']"
      ]
    },
    {
      "cell_type": "code",
      "execution_count": 4,
      "metadata": {
        "id": "gIfO0E241LG4"
      },
      "outputs": [
        {
          "name": "stdout",
          "output_type": "stream",
          "text": [
            "banana\n",
            "['manzana', 'banana', 'uva', 'kiwi', 'pera']\n"
          ]
        }
      ],
      "source": [
        "frutas =['manzana', 'banana', 'naranja','uva', 'kiwi']\n",
        "print(f\"{frutas[1]}\")\n",
        "\n",
        "frutas.append('pera')\n",
        "\n",
        "frutas.remove('naranja')\n",
        "\n",
        "print(frutas)"
      ]
    },
    {
      "cell_type": "markdown",
      "metadata": {
        "id": "yHvD2x831Kke"
      },
      "source": [
        "## Reto 3: Ciclo `for`\n",
        "\n",
        "**Descripción:**\n",
        "\n",
        "1.  Crea una lista llamada `numeros` que contenga los números del 1 al 10.\n",
        "2.  Utiliza un ciclo `for` para iterar sobre la lista `numeros` e imprimir cada número multiplicado por 2.\n",
        "\n",
        "**Resultado Esperado:**\n",
        "\n",
        "2\n",
        "4\n",
        "6\n",
        "8\n",
        "10\n",
        "12\n",
        "14\n",
        "16\n",
        "18\n",
        "20"
      ]
    },
    {
      "cell_type": "code",
      "execution_count": 14,
      "metadata": {
        "id": "9OjPUFb11PxX"
      },
      "outputs": [
        {
          "name": "stdout",
          "output_type": "stream",
          "text": [
            "2\n",
            "4\n",
            "6\n",
            "8\n",
            "10\n",
            "12\n",
            "14\n",
            "16\n",
            "18\n",
            "20\n"
          ]
        }
      ],
      "source": [
        "numeros = [1, 2, 3, 4, 5, 6, 7, 8 , 9, 10]\n",
        "\n",
        "for x in numeros:\n",
        "    print(x * 2)"
      ]
    },
    {
      "cell_type": "markdown",
      "metadata": {
        "id": "1WGjGzLm1PRG"
      },
      "source": [
        "## Reto 4: Condicionales\n",
        "\n",
        "**Descripción:**\n",
        "\n",
        "1.  Crea una variable llamada `calificacion` y asígnale un valor numérico entre 0 y 10 (por ejemplo, 7).\n",
        "2.  Utiliza una estructura condicional (`if`, `elif`, `else`) para determinar si la calificación es:\n",
        "    *   \"Sobresaliente\" (si es 9 o 10)\n",
        "    *   \"Notable\" (si está entre 7 y 8, inclusive)\n",
        "    *   \"Aprobado\" (si es 6)\n",
        "    *   \"Reprobado\" (si es menor que 6)\n",
        "3.  Imprime el resultado.\n",
        "\n",
        "**Resultado Esperado (ejemplo con calificación = 7):**\n",
        "\n",
        "Notable"
      ]
    },
    {
      "cell_type": "code",
      "execution_count": 20,
      "metadata": {
        "id": "MnW3oEr_1ZRX"
      },
      "outputs": [
        {
          "name": "stdout",
          "output_type": "stream",
          "text": [
            "Notable\n"
          ]
        }
      ],
      "source": [
        "calificacion = 7\n",
        "\n",
        "if calificacion >= 9 and calificacion <=10:\n",
        "    valor='Sobresaliente'\n",
        "elif (calificacion>=7) and (calificacion<=8):\n",
        "    valor='Notable'\n",
        "elif calificacion==6:\n",
        "    valor='Aprobado'\n",
        "else:\n",
        "    valor='Reprobado'    \n",
        "\n",
        "print(valor)"
      ]
    },
    {
      "cell_type": "markdown",
      "metadata": {
        "id": "WutIkJSq1Ztn"
      },
      "source": [
        "## Reto 5: Combinando Conceptos\n",
        "\n",
        "**Descripción:**\n",
        "\n",
        "1.  Crea una lista llamada `palabras` que contenga varias palabras (al menos 5).\n",
        "2.  Utiliza un ciclo `for` para iterar sobre la lista.\n",
        "3.  Dentro del ciclo, para cada palabra, verifica si su longitud es mayor que 5.\n",
        "    *   Si es mayor que 5, imprime la palabra en mayúsculas.\n",
        "    *   Si no es mayor que 5, imprime la palabra en minúsculas.\n",
        "\n",
        "**Resultado Esperado:**\n",
        "\n",
        "python -> PYTHON\n",
        "\n",
        "hola -> hola"
      ]
    },
    {
      "cell_type": "code",
      "execution_count": 22,
      "metadata": {
        "id": "lndmPjLA1v8_"
      },
      "outputs": [
        {
          "name": "stdout",
          "output_type": "stream",
          "text": [
            "PYTHON\n",
            "ruby\n",
            "JAVASCRIPT\n",
            "css\n",
            "java\n"
          ]
        }
      ],
      "source": [
        "palabras =['python','ruby','javascript','css','java']\n",
        "\n",
        "for i in palabras:\n",
        "    if len(i) > 5:\n",
        "        print(i.upper())  \n",
        "    else:\n",
        "        print(i.lower())"
      ]
    },
    {
      "cell_type": "markdown",
      "metadata": {
        "id": "ON1DbbDE2RXm"
      },
      "source": [
        "#Reto 6: Filtrado de Números con Entrada de Usuario\n",
        "\n",
        "**Descripción:**\n",
        "\n",
        "1.  Pide al usuario que ingrese un número entero (llamémoslo `limite`). Usa `input()` para obtener este número y asegúrate de convertirlo a un entero usando `int()`.\n",
        "2.  Crea una lista llamada `numeros` que contenga los números del 1 al 20 (o un rango mayor si quieres).\n",
        "3.  Utiliza un ciclo `for` para iterar sobre la lista `numeros`.\n",
        "4.  Dentro del ciclo, verifica si cada número es menor que el `limite` ingresado por el usuario.\n",
        "    *   Si es menor, imprime el número.\n",
        "    *   Si es mayor o igual, no imprimas nada.\n",
        "5.  Después del ciclo, si *ningún* número fue menor que `limite`, imprime un mensaje que diga: \"Ningún número fue menor que el límite.\" (Esto requiere una variable adicional para controlar si se imprimió algún número o no).\n",
        "\n",
        "**Resultado Esperado (ejemplo, si el usuario ingresa 12):**\n",
        "\n",
        "1\n",
        "\n",
        "2\n",
        "\n",
        "3\n",
        "\n",
        "4\n",
        "\n",
        "5\n",
        "\n",
        "6\n",
        "\n",
        "7\n",
        "\n",
        "8\n",
        "\n",
        "9\n",
        "\n",
        "10\n",
        "\n",
        "11"
      ]
    },
    {
      "cell_type": "code",
      "execution_count": 28,
      "metadata": {
        "id": "1bu91eZw2i8q"
      },
      "outputs": [
        {
          "name": "stdout",
          "output_type": "stream",
          "text": [
            "1\n",
            "2\n",
            "3\n",
            "4\n",
            "5\n",
            "6\n",
            "7\n",
            "8\n",
            "9\n",
            "10\n",
            "11\n"
          ]
        }
      ],
      "source": [
        "lista_numeros = list((range(1,20)))\n",
        "limite= int(input('Ingrese un número'))\n",
        "\n",
        "for i in lista_numeros:\n",
        "    if i < limite:\n",
        "        print(i)\n",
        "        se_imprimio = True \n",
        "if not se_imprimio:\n",
        "    print(\"Ningún número fue menor que el límite.\")"
      ]
    }
  ],
  "metadata": {
    "colab": {
      "provenance": []
    },
    "kernelspec": {
      "display_name": "Python 3",
      "name": "python3"
    },
    "language_info": {
      "codemirror_mode": {
        "name": "ipython",
        "version": 3
      },
      "file_extension": ".py",
      "mimetype": "text/x-python",
      "name": "python",
      "nbconvert_exporter": "python",
      "pygments_lexer": "ipython3",
      "version": "3.13.4"
    }
  },
  "nbformat": 4,
  "nbformat_minor": 0
}
