{
  "cells": [
    {
      "cell_type": "markdown",
      "id": "8627c828",
      "metadata": {
        "id": "8627c828"
      },
      "source": [
        "# Programación Orientada a Objetos (POO) en Python\n",
        "\n",
        "## 1. Introducción a la POO\n",
        "\n",
        "### ¿Qué es la POO?\n",
        "\n",
        "La Programación Orientada a Objetos (POO) es un paradigma de programación basado en el uso de **clases** y **objetos** para organizar el código de forma más modular, reutilizable y mantenible.\n",
        "\n",
        "### Ventajas frente a la programación estructurada\n",
        "\n",
        "- Favorece la reutilización de código.\n",
        "- Permite organizar programas complejos de forma más clara.\n",
        "- Facilita el mantenimiento y la escalabilidad.\n",
        "\n",
        "### Conceptos clave\n",
        "\n",
        "- **Clase**: Es una plantilla o modelo que define las características y comportamientos comunes a un conjunto de objetos.\n",
        "- **Objeto**: Es una instancia concreta de una clase.\n",
        "- **Atributos**: Son las variables que describen las propiedades de un objeto.\n",
        "- **Métodos**: Son funciones definidas dentro de una clase que determinan el comportamiento del objeto.\n"
      ]
    },
    {
      "cell_type": "markdown",
      "id": "93a10465",
      "metadata": {
        "id": "93a10465"
      },
      "source": [
        "## 2. Primer ejemplo básico\n",
        "\n",
        "Vamos a definir una clase sencilla llamada `Persona`, que tendrá algunos atributos y métodos básicos.\n"
      ]
    },
    {
      "cell_type": "code",
      "execution_count": null,
      "id": "23c86462",
      "metadata": {
        "id": "23c86462",
        "colab": {
          "base_uri": "https://localhost:8080/"
        },
        "outputId": "7557e164-9318-4a89-9991-fdfa390e0e8b"
      },
      "outputs": [
        {
          "output_type": "stream",
          "name": "stdout",
          "text": [
            "Hola, mi nombre es Ana y tengo 30 años.\n",
            "Hola, mi nombre es Luis y tengo 25 años.\n"
          ]
        }
      ],
      "source": [
        "class Persona:\n",
        "    def __init__(self, nombre, edad):\n",
        "        self.nombre = nombre\n",
        "        self.edad = edad\n",
        "\n",
        "    def saludar(self):\n",
        "        print(f\"Hola, mi nombre es {self.nombre} y tengo {self.edad} años.\")\n",
        "\n",
        "# Crear objetos\n",
        "persona1 = Persona(\"Ana\", 30)\n",
        "persona2 = Persona(\"Luis\", 25)\n",
        "\n",
        "# Usar métodos\n",
        "persona1.saludar()\n",
        "persona2.saludar()"
      ]
    },
    {
      "cell_type": "markdown",
      "id": "debc60bd",
      "metadata": {
        "id": "debc60bd"
      },
      "source": [
        "## 3. Encapsulamiento\n",
        "\n",
        "El encapsulamiento es un principio que consiste en ocultar los detalles internos de un objeto y exponer solo lo necesario.\n",
        "\n",
        "- Los atributos **públicos** pueden ser accedidos directamente.\n",
        "- Los atributos **privados** se definen con doble guion bajo `__` y se acceden mediante métodos especiales (getters y setters).\n"
      ]
    },
    {
      "cell_type": "code",
      "execution_count": null,
      "id": "c2a999f3",
      "metadata": {
        "id": "c2a999f3",
        "colab": {
          "base_uri": "https://localhost:8080/"
        },
        "outputId": "92b08312-f2a5-4e32-92a3-99164581c139"
      },
      "outputs": [
        {
          "output_type": "stream",
          "name": "stdout",
          "text": [
            "1000\n",
            "1500\n"
          ]
        }
      ],
      "source": [
        "class Cuenta:\n",
        "    def __init__(self, titular, saldo):\n",
        "        self.titular = titular\n",
        "        self.__saldo = saldo  # atributo privado\n",
        "\n",
        "    def get_saldo(self):\n",
        "        return self.__saldo\n",
        "\n",
        "    def set_saldo(self, nuevo_saldo):\n",
        "        if nuevo_saldo >= 0:\n",
        "            self.__saldo = nuevo_saldo\n",
        "\n",
        "cuenta = Cuenta(\"Carlos\", 1000)\n",
        "print(cuenta.get_saldo())\n",
        "cuenta.set_saldo(1500)\n",
        "print(cuenta.get_saldo())"
      ]
    },
    {
      "cell_type": "markdown",
      "id": "4cee11e7",
      "metadata": {
        "id": "4cee11e7"
      },
      "source": [
        "## 4. Herencia simple\n",
        "\n",
        "La herencia permite que una clase (subclase) herede atributos y métodos de otra clase (superclase).\n",
        "\n",
        "Ejemplo: clase `Animal` como superclase y clase `Perro` como subclase.\n"
      ]
    },
    {
      "cell_type": "code",
      "execution_count": null,
      "id": "0accf95f",
      "metadata": {
        "id": "0accf95f",
        "colab": {
          "base_uri": "https://localhost:8080/"
        },
        "outputId": "aeba43e5-4d6d-441b-96c3-9e35ba3a16ff"
      },
      "outputs": [
        {
          "output_type": "stream",
          "name": "stdout",
          "text": [
            "Max dice: ¡Guau!\n"
          ]
        }
      ],
      "source": [
        "class Animal:\n",
        "    def __init__(self, nombre):\n",
        "        self.nombre = nombre\n",
        "\n",
        "    def hablar(self):\n",
        "        print(\"Este animal hace un sonido.\")\n",
        "\n",
        "class Perro(Animal):\n",
        "    def hablar(self):\n",
        "        print(f\"{self.nombre} dice: ¡Guau!\")\n",
        "\n",
        "mi_perro = Perro(\"Max\")\n",
        "mi_perro.hablar()"
      ]
    },
    {
      "cell_type": "markdown",
      "id": "02561b83",
      "metadata": {
        "id": "02561b83"
      },
      "source": [
        "## 5. Diseño de estructuras básicas\n",
        "\n",
        "Los métodos `__init__` y `__str__` permiten definir la inicialización y la representación en texto de un objeto.\n",
        "\n",
        "También existen dos conceptos clave:\n",
        "- **Composición**: una clase usa otras clases como parte de su estructura.\n",
        "- **Herencia**: una clase hereda de otra.\n"
      ]
    },
    {
      "cell_type": "code",
      "execution_count": null,
      "id": "1b2cf608",
      "metadata": {
        "id": "1b2cf608",
        "colab": {
          "base_uri": "https://localhost:8080/"
        },
        "outputId": "65ad4b18-7586-4285-b379-e6cbb7879fd2"
      },
      "outputs": [
        {
          "output_type": "stream",
          "name": "stdout",
          "text": [
            "Cuenta de Elena con saldo: $700\n"
          ]
        }
      ],
      "source": [
        "class CuentaBancaria:\n",
        "    def __init__(self, titular, saldo=0):\n",
        "        self.titular = titular\n",
        "        self.saldo = saldo\n",
        "\n",
        "    def depositar(self, monto):\n",
        "        self.saldo += monto\n",
        "\n",
        "    def retirar(self, monto):\n",
        "        if monto <= self.saldo:\n",
        "            self.saldo -= monto\n",
        "\n",
        "    def __str__(self):\n",
        "        return f\"Cuenta de {self.titular} con saldo: ${self.saldo}\"\n",
        "\n",
        "cuenta = CuentaBancaria(\"Elena\", 500)\n",
        "cuenta.depositar(300)\n",
        "cuenta.retirar(100)\n",
        "print(cuenta)"
      ]
    },
    {
      "cell_type": "markdown",
      "id": "560b2409",
      "metadata": {
        "id": "560b2409"
      },
      "source": [
        "## 6. Actividades de práctica\n",
        "\n",
        "### Ejercicio 1\n",
        "Define una clase `Rectángulo` con atributos `ancho` y `alto`, y un método que calcule el área.\n",
        "\n",
        "### Ejercicio 2\n",
        "Crea una clase `Empleado` con nombre y salario. Agrega un método que calcule un bono del 10% del salario.\n",
        "\n",
        "### Ejercicio 3\n",
        "Crea una clase `Vehículo` con un método `mover()`. Luego crea una subclase `Bicicleta` que sobrescriba ese método.\n"
      ]
    },
    {
      "cell_type": "code",
      "source": [
        "# Ejercicio 1\n",
        "# Define una clase Rectángulo con atributos ancho y alto, y un método que calcule el área.\n",
        "\n",
        "class Rectangulo:\n",
        "    def __init__(self, ancho, alto):\n",
        "        self.ancho = ancho\n",
        "        self.alto = alto\n",
        "\n",
        "    def calcular_area(self):\n",
        "      resultado = self.ancho * self.alto\n",
        "      print(f\"El área del rectángulo es {resultado}\")\n",
        "\n",
        "# Crear objetos\n",
        "rectangulo1 = Rectangulo(25, 30)\n",
        "rectangulo2 = Rectangulo(40, 25)\n",
        "\n",
        "# Usar métodos\n",
        "rectangulo1.calcular_area()\n",
        "rectangulo2.calcular_area()\n"
      ],
      "metadata": {
        "colab": {
          "base_uri": "https://localhost:8080/"
        },
        "id": "dl0bP4lZu2Hi",
        "outputId": "8748fe83-29e1-4c2a-d323-8cbcea4cd4c4"
      },
      "id": "dl0bP4lZu2Hi",
      "execution_count": null,
      "outputs": [
        {
          "output_type": "stream",
          "name": "stdout",
          "text": [
            "El área del rectángulo es 750\n",
            "El área del rectángulo es 1000\n"
          ]
        }
      ]
    },
    {
      "cell_type": "code",
      "source": [
        "# Ejercicio 2\n",
        "# Crea una clase Empleado con nombre y salario. Agrega un método que calcule un bono del 10% del salario.\n",
        "\n",
        "class Empleado:\n",
        "    def __init__(self, nombre, salario):\n",
        "        self.nombre = nombre\n",
        "        self.salario = salario\n",
        "\n",
        "    def calcular_bono(self):\n",
        "        resultado = self.salario * 0.1\n",
        "        print(f\"El bono del empleado {self.nombre} es de ${resultado}\")\n",
        "\n",
        "# Crear objetos\n",
        "empleado1 = Empleado('Sebastian',3500000)\n",
        "empleado2 = Empleado('Valeria', 2550000)\n",
        "\n",
        "# Usar métodos\n",
        "empleado1.calcular_bono()\n",
        "empleado2.calcular_bono()\n",
        "\n",
        "\n"
      ],
      "metadata": {
        "colab": {
          "base_uri": "https://localhost:8080/"
        },
        "id": "F54m5wC4wF8a",
        "outputId": "0c6edd00-1c49-457e-fa8c-f0b9e1842380"
      },
      "id": "F54m5wC4wF8a",
      "execution_count": null,
      "outputs": [
        {
          "output_type": "stream",
          "name": "stdout",
          "text": [
            "El bono del empleado Sebastian es de $350000.0\n",
            "El bono del empleado Valeria es de $255000.0\n"
          ]
        }
      ]
    },
    {
      "cell_type": "code",
      "source": [
        "# Ejercicio 3\n",
        "# Crea una clase Vehículo con un método mover(). Luego crea una subclase Bicicleta que sobrescriba ese método.\n",
        "\n",
        "class Vehiculo:\n",
        "    def mover(self):\n",
        "        print(\"El vehículo se está moviendo\")\n",
        "\n",
        "class Bicicleta(Vehiculo):\n",
        "    def mover(self):\n",
        "        print(\"La bicicleta se mueve pedaleando\")\n",
        "\n",
        "vehiculo1 = Vehiculo()\n",
        "vehiculo1.mover()\n",
        "\n",
        "bicicleta1 = Bicicleta()\n",
        "bicicleta1.mover()\n",
        "\n",
        "\n",
        "\n"
      ],
      "metadata": {
        "colab": {
          "base_uri": "https://localhost:8080/"
        },
        "id": "DY3rtGAvw7Hj",
        "outputId": "2ac2e309-0f6a-434e-a407-6dcb61316a60"
      },
      "id": "DY3rtGAvw7Hj",
      "execution_count": null,
      "outputs": [
        {
          "output_type": "stream",
          "name": "stdout",
          "text": [
            "El vehículo se está moviendo\n",
            "La bicicleta se mueve pedaleando\n"
          ]
        }
      ]
    }
  ],
  "metadata": {
    "colab": {
      "provenance": []
    },
    "language_info": {
      "name": "python"
    },
    "kernelspec": {
      "name": "python3",
      "display_name": "Python 3"
    }
  },
  "nbformat": 4,
  "nbformat_minor": 5
}