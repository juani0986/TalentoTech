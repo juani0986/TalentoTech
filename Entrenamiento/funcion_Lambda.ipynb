{
 "cells": [
  {
   "cell_type": "code",
   "execution_count": 14,
   "id": "e8b7bb2e",
   "metadata": {},
   "outputs": [
    {
     "name": "stdout",
     "output_type": "stream",
     "text": [
      "The sum is: 34.0\n",
      "The substraction is: 30.0\n",
      "The multiplication is: 64.0\n",
      "The division is: 16.0\n",
      "La potencia de base 32.0 y exponente 2.0 es igual: 1024.0\n",
      "La raiz de 32.0 a la 2.0 es igual: 5.656854249492381\n",
      "El logaritmo de 32.0 base 2.0 es igual: 5.0\n"
     ]
    }
   ],
   "source": [
    "import math\n",
    "\n",
    "n1 = float(input(\"Enter the 1st number: \"))\n",
    "n2 = float(input(\"Enter the 2nd number: \"))\n",
    "\n",
    "suma = lambda a,b: a+b\n",
    "resultado = suma(n1, n2)\n",
    "print(f\"The sum is: {resultado}\")\n",
    "\n",
    "resta = lambda a,b: a-b\n",
    "resultado = resta(n1, n2)\n",
    "print(f\"The substraction is: {resultado}\")\n",
    "\n",
    "multiplicacion = lambda a,b: a*b\n",
    "resultado = multiplicacion(n1, n2)\n",
    "print(f\"The multiplication is: {resultado}\")\n",
    "\n",
    "division = lambda a,b: a/b\n",
    "resultado = division(n1, n2) if n2!=0 else \"You cannot divide by zero\"\n",
    "print(f\"The division is: {resultado}\")\n",
    "\n",
    "potencia = lambda base,exponente: math.pow(base,exponente)# base**exponente\n",
    "resultado = potencia(n1, n2)\n",
    "print(f\"La potencia de base {n1} y exponente {n2} es igual: {resultado}\")\n",
    "\n",
    "raiz = lambda a,b: a ** (1/b)\n",
    "resultado = raiz(n1, n2)\n",
    "print(f\"La raiz de {n1} a la {n2} es igual: {resultado}\")\n",
    "\n",
    "logaritmo = lambda a,b: math.log(a, b)\n",
    "resultado = logaritmo(n1, n2)\n",
    "print(f\"El logaritmo de {n1} base {n2} es igual: {resultado}\")\n"
   ]
  },
  {
   "cell_type": "code",
   "execution_count": null,
   "id": "1ec81fd9",
   "metadata": {},
   "outputs": [
    {
     "name": "stdout",
     "output_type": "stream",
     "text": [
      "El seno del angulo_radianes: 45.0 es igual: 0.8509035245341184\n",
      "El coseno del angulo_radianes: 45.0 es igual: 0.5253219888177297\n",
      "La tangente del angulo_radianes: 45.0 es igual: 1.6197751905438615\n"
     ]
    }
   ],
   "source": [
    "import math\n",
    "\n",
    "n1 = float(input(\"Ingrese el angulo en radianes: \"))\n",
    "\n",
    "seno = lambda angulo_radianes: math.sin(angulo_radianes)\n",
    "resultado = seno(n1)\n",
    "print(f\"El seno del angulo_radianes: {n1} es igual: {resultado}\")\n",
    "\n",
    "coseno = lambda angulo_radianes: math.cos(angulo_radianes)\n",
    "resultado = coseno(n1)\n",
    "print(f\"El coseno del angulo_radianes: {n1} es igual: {resultado}\")\n",
    "\n",
    "tangente = lambda angulo_radianes: math.tan(angulo_radianes)\n",
    "resultado = tangente(n1)\n",
    "print(f\"La tangente del angulo_radianes: {n1} es igual: {resultado}\")\n"
   ]
  },
  {
   "cell_type": "code",
   "execution_count": 13,
   "id": "d09c506f",
   "metadata": {},
   "outputs": [
    {
     "name": "stdout",
     "output_type": "stream",
     "text": [
      "0\n",
      "1\n",
      "1\n",
      "2\n",
      "3\n",
      "5\n",
      "8\n",
      "13\n",
      "21\n",
      "34\n",
      "55\n",
      "89\n",
      "144\n",
      "233\n",
      "377\n",
      "610\n",
      "987\n",
      "1597\n",
      "2584\n",
      "4181\n",
      "6765\n"
     ]
    }
   ],
   "source": [
    "def fibonacci(n): # n debe ser un numero entero positivo incluyendo el cero (numero natural)\n",
    "     if n <= 1:\n",
    "         return n\n",
    "     else:\n",
    "         return fibonacci(n - 1) + fibonacci(n - 2) # aquí se aplica la recursividad pues dentro del mismo bloque de código llamo a la función\n",
    "     \n",
    "contador = 0\n",
    "while contador <= 20:\n",
    "    print(fibonacci(contador))\n",
    "    contador += 1     "
   ]
  },
  {
   "cell_type": "markdown",
   "id": "3f270d25",
   "metadata": {},
   "source": [
    "FUNCIÓN NO RECURSIVA"
   ]
  },
  {
   "cell_type": "code",
   "execution_count": 2,
   "id": "2ea76bbb",
   "metadata": {},
   "outputs": [
    {
     "name": "stdout",
     "output_type": "stream",
     "text": [
      "120\n"
     ]
    }
   ],
   "source": [
    "def factorial_iterativo(n):\n",
    "    if n < 0:\n",
    "        return \"No existe factorial de números negativos\"\n",
    "    resultado = 1\n",
    "    for i in range(1, n + 1):  # Desde 1 hasta n\n",
    "        resultado *= i\n",
    "    return resultado\n",
    "\n",
    "print(factorial_iterativo(5))  # Salida: 120 (5! = 5 × 4 × 3 × 2 × 1 = 120)"
   ]
  },
  {
   "cell_type": "markdown",
   "id": "8bc54416",
   "metadata": {},
   "source": [
    "FUNCIÓN FACTORIAL RECURSIVA"
   ]
  },
  {
   "cell_type": "code",
   "execution_count": 3,
   "id": "b07ef142",
   "metadata": {},
   "outputs": [
    {
     "name": "stdout",
     "output_type": "stream",
     "text": [
      "120\n"
     ]
    }
   ],
   "source": [
    "def factorial_recursivo(n):\n",
    "    if n < 0:\n",
    "        return \"No existe factorial de números negativos\"\n",
    "    if n == 0 or n == 1:  \n",
    "        return 1\n",
    "    else:\n",
    "        return n * factorial_recursivo(n - 1)  # Llamada recursiva\n",
    "    \n",
    "\n",
    "print(factorial_recursivo(5))  # Salida: 120    "
   ]
  }
 ],
 "metadata": {
  "kernelspec": {
   "display_name": "Python 3",
   "language": "python",
   "name": "python3"
  },
  "language_info": {
   "codemirror_mode": {
    "name": "ipython",
    "version": 3
   },
   "file_extension": ".py",
   "mimetype": "text/x-python",
   "name": "python",
   "nbconvert_exporter": "python",
   "pygments_lexer": "ipython3",
   "version": "3.13.4"
  }
 },
 "nbformat": 4,
 "nbformat_minor": 5
}
